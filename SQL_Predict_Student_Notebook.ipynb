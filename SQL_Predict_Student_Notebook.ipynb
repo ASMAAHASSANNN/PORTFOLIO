{
  "cells": [
    {
      "cell_type": "markdown",
      "metadata": {
        "id": "view-in-github",
        "colab_type": "text"
      },
      "source": [
        "<a href=\"https://colab.research.google.com/github/ASMAAHASSANNN/PORTFOLIO/blob/main/SQL_Predict_Student_Notebook.ipynb\" target=\"_parent\"><img src=\"https://colab.research.google.com/assets/colab-badge.svg\" alt=\"Open In Colab\"/></a>"
      ]
    },
    {
      "cell_type": "markdown",
      "metadata": {
        "id": "kJ9OEzDBgwvw"
      },
      "source": [
        "# SQL 4 Data Science: Predict Project\n",
        "## Bhejane Online Trading Store\n",
        "\n",
        "### Student Starter Notebook\n",
        "\n",
        "© Explore Data Science Academy\n",
        "\n",
        "### Honour Code\n",
        "\n",
        "I {ASMAA, HASSAN}, confirm - by submitting this document - that the solutions in this notebook are a result of my own work and that I abide by the EDSA honour code (https://drive.google.com/file/d/1QDCjGZJ8-FmJE3bZdIQNwnJyQKPhHZBn/view?usp=sharing).\n",
        "\n",
        "Non-compliance with the honour code constitutes a material breach of contract."
      ]
    },
    {
      "cell_type": "markdown",
      "metadata": {
        "id": "p40FILKTgwvy"
      },
      "source": [
        "<a id='Context'></a>\n",
        "### 1. Context\n",
        "\n",
        "<div align=\"center\" style=\"width: 600px; font-size: 80%; text-align: center; margin: 0 auto\">\n",
        "<img src=\"https://raw.githubusercontent.com/Explore-AI/Pictures/master/Bhejane_large.jpg\"\n",
        "     alt=\"The Black Rhino\"\n",
        "     style=\"float: center; padding-bottom=0.5em\"\n",
        "     width=600px/>\n",
        "     Bhejane, or the Black Rhino. Image by <a href=\"https://commons.wikimedia.org/wiki/File:Black_Rhino_(Diceros_bicornis)_browsing_..._(46584052962).jpg\">Wikimedia Commons</a>\n",
        "</div>\n",
        "\n",
        "\n",
        "The Bhejane trading store is an online retailer specialising in Covid essesstial items. The store has recently be struggling with the management of its database-related inventory system. Luckily for them, you've been hired as a consultant to fix the problem.\n",
        "\n",
        "Its time to flex your Ninja SQL skills!\n",
        "\n",
        "**Your mission, should you choose to accept it:**\n",
        "\n",
        "You will receive a denormalised database consisting of two tables. Your task is to transform the database such that is in third normal form (3NF). To ensure that a consistent normalisation process is followed by each student, we have attached an Entity Relationship Diagram (ERD) which is a guideline on what tables need to be produced. Once you have normalised the databasse, you will be required to complete an MCQ test found under the 'Predict' tab of Athena.  "
      ]
    },
    {
      "cell_type": "markdown",
      "metadata": {
        "id": "4hrluJ8Fgwvz"
      },
      "source": [
        "<a id='Imports'></a>\n",
        "### 2. Imports\n",
        "Please use the below command to install sql_magic, this is the package that will assist you with SQL syntax hightlighting.\n",
        "* pip install sql_magic\n",
        "\n",
        "**NB: To run this notebook on Colab, you will also have to install the packages below;**\n",
        "* `pip install sqlalchemy==1.4.47`\n",
        "* `pip install ipython-sql`\n",
        "* `pip install pymysql`\n",
        "\n",
        "Remember to start each new cell with:  **`%%sql`**"
      ]
    },
    {
      "cell_type": "code",
      "source": [
        "!pip install sqlalchemy==1.4.47\n",
        "!pip install ipython-sql\n",
        "!pip install pymysql\n"
      ],
      "metadata": {
        "colab": {
          "base_uri": "https://localhost:8080/"
        },
        "id": "O_gnW8eIs3Jg",
        "outputId": "8c3c97a3-e797-4da7-e270-1827c728946a"
      },
      "execution_count": null,
      "outputs": [
        {
          "output_type": "stream",
          "name": "stdout",
          "text": [
            "Collecting sqlalchemy==1.4.47\n",
            "  Downloading SQLAlchemy-1.4.47-cp310-cp310-manylinux_2_5_x86_64.manylinux1_x86_64.manylinux_2_17_x86_64.manylinux2014_x86_64.whl (1.6 MB)\n",
            "\u001b[?25l     \u001b[90m━━━━━━━━━━━━━━━━━━━━━━━━━━━━━━━━━━━━━━━━\u001b[0m \u001b[32m0.0/1.6 MB\u001b[0m \u001b[31m?\u001b[0m eta \u001b[36m-:--:--\u001b[0m\r\u001b[2K     \u001b[91m━━━\u001b[0m\u001b[90m╺\u001b[0m\u001b[90m━━━━━━━━━━━━━━━━━━━━━━━━━━━━━━━━━━━━\u001b[0m \u001b[32m0.1/1.6 MB\u001b[0m \u001b[31m3.4 MB/s\u001b[0m eta \u001b[36m0:00:01\u001b[0m\r\u001b[2K     \u001b[91m━━━━━━━━━━━━━━━━━━━━━━━━\u001b[0m\u001b[90m╺\u001b[0m\u001b[90m━━━━━━━━━━━━━━━\u001b[0m \u001b[32m1.0/1.6 MB\u001b[0m \u001b[31m14.6 MB/s\u001b[0m eta \u001b[36m0:00:01\u001b[0m\r\u001b[2K     \u001b[90m━━━━━━━━━━━━━━━━━━━━━━━━━━━━━━━━━━━━━━━━\u001b[0m \u001b[32m1.6/1.6 MB\u001b[0m \u001b[31m17.5 MB/s\u001b[0m eta \u001b[36m0:00:00\u001b[0m\n",
            "\u001b[?25hRequirement already satisfied: greenlet!=0.4.17 in /usr/local/lib/python3.10/dist-packages (from sqlalchemy==1.4.47) (3.0.3)\n",
            "Installing collected packages: sqlalchemy\n",
            "  Attempting uninstall: sqlalchemy\n",
            "    Found existing installation: SQLAlchemy 2.0.31\n",
            "    Uninstalling SQLAlchemy-2.0.31:\n",
            "      Successfully uninstalled SQLAlchemy-2.0.31\n",
            "\u001b[31mERROR: pip's dependency resolver does not currently take into account all the packages that are installed. This behaviour is the source of the following dependency conflicts.\n",
            "ipython-sql 0.5.0 requires sqlalchemy>=2.0, but you have sqlalchemy 1.4.47 which is incompatible.\u001b[0m\u001b[31m\n",
            "\u001b[0mSuccessfully installed sqlalchemy-1.4.47\n",
            "Requirement already satisfied: ipython-sql in /usr/local/lib/python3.10/dist-packages (0.5.0)\n",
            "Requirement already satisfied: prettytable in /usr/local/lib/python3.10/dist-packages (from ipython-sql) (3.10.2)\n",
            "Requirement already satisfied: ipython in /usr/local/lib/python3.10/dist-packages (from ipython-sql) (7.34.0)\n",
            "Collecting sqlalchemy>=2.0 (from ipython-sql)\n",
            "  Downloading SQLAlchemy-2.0.31-cp310-cp310-manylinux_2_17_x86_64.manylinux2014_x86_64.whl (3.1 MB)\n",
            "\u001b[2K     \u001b[90m━━━━━━━━━━━━━━━━━━━━━━━━━━━━━━━━━━━━━━━━\u001b[0m \u001b[32m3.1/3.1 MB\u001b[0m \u001b[31m28.0 MB/s\u001b[0m eta \u001b[36m0:00:00\u001b[0m\n",
            "\u001b[?25hRequirement already satisfied: sqlparse in /usr/local/lib/python3.10/dist-packages (from ipython-sql) (0.5.1)\n",
            "Requirement already satisfied: six in /usr/local/lib/python3.10/dist-packages (from ipython-sql) (1.16.0)\n",
            "Requirement already satisfied: ipython-genutils in /usr/local/lib/python3.10/dist-packages (from ipython-sql) (0.2.0)\n",
            "Requirement already satisfied: typing-extensions>=4.6.0 in /usr/local/lib/python3.10/dist-packages (from sqlalchemy>=2.0->ipython-sql) (4.12.2)\n",
            "Requirement already satisfied: greenlet!=0.4.17 in /usr/local/lib/python3.10/dist-packages (from sqlalchemy>=2.0->ipython-sql) (3.0.3)\n",
            "Requirement already satisfied: setuptools>=18.5 in /usr/local/lib/python3.10/dist-packages (from ipython->ipython-sql) (67.7.2)\n",
            "Collecting jedi>=0.16 (from ipython->ipython-sql)\n",
            "  Downloading jedi-0.19.1-py2.py3-none-any.whl (1.6 MB)\n",
            "\u001b[2K     \u001b[90m━━━━━━━━━━━━━━━━━━━━━━━━━━━━━━━━━━━━━━━━\u001b[0m \u001b[32m1.6/1.6 MB\u001b[0m \u001b[31m57.4 MB/s\u001b[0m eta \u001b[36m0:00:00\u001b[0m\n",
            "\u001b[?25hRequirement already satisfied: decorator in /usr/local/lib/python3.10/dist-packages (from ipython->ipython-sql) (4.4.2)\n",
            "Requirement already satisfied: pickleshare in /usr/local/lib/python3.10/dist-packages (from ipython->ipython-sql) (0.7.5)\n",
            "Requirement already satisfied: traitlets>=4.2 in /usr/local/lib/python3.10/dist-packages (from ipython->ipython-sql) (5.7.1)\n",
            "Requirement already satisfied: prompt-toolkit!=3.0.0,!=3.0.1,<3.1.0,>=2.0.0 in /usr/local/lib/python3.10/dist-packages (from ipython->ipython-sql) (3.0.47)\n",
            "Requirement already satisfied: pygments in /usr/local/lib/python3.10/dist-packages (from ipython->ipython-sql) (2.16.1)\n",
            "Requirement already satisfied: backcall in /usr/local/lib/python3.10/dist-packages (from ipython->ipython-sql) (0.2.0)\n",
            "Requirement already satisfied: matplotlib-inline in /usr/local/lib/python3.10/dist-packages (from ipython->ipython-sql) (0.1.7)\n",
            "Requirement already satisfied: pexpect>4.3 in /usr/local/lib/python3.10/dist-packages (from ipython->ipython-sql) (4.9.0)\n",
            "Requirement already satisfied: wcwidth in /usr/local/lib/python3.10/dist-packages (from prettytable->ipython-sql) (0.2.13)\n",
            "Requirement already satisfied: parso<0.9.0,>=0.8.3 in /usr/local/lib/python3.10/dist-packages (from jedi>=0.16->ipython->ipython-sql) (0.8.4)\n",
            "Requirement already satisfied: ptyprocess>=0.5 in /usr/local/lib/python3.10/dist-packages (from pexpect>4.3->ipython->ipython-sql) (0.7.0)\n",
            "Installing collected packages: sqlalchemy, jedi\n",
            "  Attempting uninstall: sqlalchemy\n",
            "    Found existing installation: SQLAlchemy 1.4.47\n",
            "    Uninstalling SQLAlchemy-1.4.47:\n",
            "      Successfully uninstalled SQLAlchemy-1.4.47\n",
            "Successfully installed jedi-0.19.1 sqlalchemy-2.0.31\n",
            "Collecting pymysql\n",
            "  Downloading PyMySQL-1.1.1-py3-none-any.whl (44 kB)\n",
            "\u001b[2K     \u001b[90m━━━━━━━━━━━━━━━━━━━━━━━━━━━━━━━━━━━━━━━━\u001b[0m \u001b[32m45.0/45.0 kB\u001b[0m \u001b[31m1.3 MB/s\u001b[0m eta \u001b[36m0:00:00\u001b[0m\n",
            "\u001b[?25hInstalling collected packages: pymysql\n",
            "Successfully installed pymysql-1.1.1\n"
          ]
        }
      ]
    },
    {
      "cell_type": "code",
      "execution_count": null,
      "metadata": {
        "id": "v_6LpuJDgwvz"
      },
      "outputs": [],
      "source": [
        "# DO NOT EDIT THIS CELL\n",
        "import sqlite3\n",
        "import csv\n",
        "from sqlalchemy import create_engine\n",
        "%load_ext sql\n",
        "\n",
        "# Load SQLite database\n",
        "%sql sqlite:///bhejane.db"
      ]
    },
    {
      "cell_type": "markdown",
      "metadata": {
        "id": "tI8p4seXgwv3"
      },
      "source": [
        "<a id='Data_description'></a>\n",
        "### 3. Data description\n",
        "\n",
        "The original database consist of 2 tables.\n",
        "* Product Table\n",
        "* Transaction Table"
      ]
    },
    {
      "cell_type": "code",
      "execution_count": null,
      "metadata": {
        "id": "oTb59N4Dgwv4",
        "outputId": "d821d0a6-d642-41b7-e1e6-d9f8b5f6b91a",
        "colab": {
          "base_uri": "https://localhost:8080/",
          "height": 708
        }
      },
      "outputs": [
        {
          "output_type": "execute_result",
          "data": {
            "text/plain": [
              "      Table Name         Column Name  \\\n",
              "0       Products               Width   \n",
              "1       Products              Length   \n",
              "2       Products              Height   \n",
              "3       Products             Barcode   \n",
              "4       Products            Quantity   \n",
              "5       Products               Brand   \n",
              "6       Products      NavigationPath   \n",
              "7       Products              Colour   \n",
              "8       Products        StockCountry   \n",
              "9       Products  ProductDescription   \n",
              "10      Products            PackType   \n",
              "11      Products        Volume_litre   \n",
              "12      Products            Warranty   \n",
              "13      Products           Weight_kg   \n",
              "14      Products     ItemDescription   \n",
              "15      Products               Price   \n",
              "16  Transactions              CartID   \n",
              "17  Transactions             Barcode   \n",
              "18  Transactions               Total   \n",
              "19  Transactions            UserName   \n",
              "20  Transactions         InvoiceDate   \n",
              "\n",
              "                                          Desciption   \n",
              "0                 Width of the product once assembled  \n",
              "1                Length of the product once assembled  \n",
              "2                Height of the product once assembled  \n",
              "3                      The unique product identifier   \n",
              "4                            Number of goods in stock  \n",
              "5      Product brand name relating to product company  \n",
              "6                 Navigation path to specific product  \n",
              "7                 Name default colour for the product  \n",
              "8             Country where the stock was bought from  \n",
              "9                            Descriptive product name  \n",
              "10           The way in which the product is packaged  \n",
              "11              The quantity of liquid based products  \n",
              "12                              Product warranty type  \n",
              "13                              Weight of the product  \n",
              "14            Description of contents of the package   \n",
              "15                   The cost of the product in Rands  \n",
              "16  Identifies an individual basket from a user pu...  \n",
              "17               Barcode for item that user purchased  \n",
              "18                      Total value of a transaction   \n",
              "19                  Name of customer purchasing stock  \n",
              "20               Date on which the product was bought  "
            ],
            "text/html": [
              "\n",
              "  <div id=\"df-79f9b0f5-3c42-456b-83a9-3b658d09e33c\" class=\"colab-df-container\">\n",
              "    <div>\n",
              "<style scoped>\n",
              "    .dataframe tbody tr th:only-of-type {\n",
              "        vertical-align: middle;\n",
              "    }\n",
              "\n",
              "    .dataframe tbody tr th {\n",
              "        vertical-align: top;\n",
              "    }\n",
              "\n",
              "    .dataframe thead th {\n",
              "        text-align: right;\n",
              "    }\n",
              "</style>\n",
              "<table border=\"1\" class=\"dataframe\">\n",
              "  <thead>\n",
              "    <tr style=\"text-align: right;\">\n",
              "      <th></th>\n",
              "      <th>Table Name</th>\n",
              "      <th>Column Name</th>\n",
              "      <th>Desciption</th>\n",
              "    </tr>\n",
              "  </thead>\n",
              "  <tbody>\n",
              "    <tr>\n",
              "      <th>0</th>\n",
              "      <td>Products</td>\n",
              "      <td>Width</td>\n",
              "      <td>Width of the product once assembled</td>\n",
              "    </tr>\n",
              "    <tr>\n",
              "      <th>1</th>\n",
              "      <td>Products</td>\n",
              "      <td>Length</td>\n",
              "      <td>Length of the product once assembled</td>\n",
              "    </tr>\n",
              "    <tr>\n",
              "      <th>2</th>\n",
              "      <td>Products</td>\n",
              "      <td>Height</td>\n",
              "      <td>Height of the product once assembled</td>\n",
              "    </tr>\n",
              "    <tr>\n",
              "      <th>3</th>\n",
              "      <td>Products</td>\n",
              "      <td>Barcode</td>\n",
              "      <td>The unique product identifier</td>\n",
              "    </tr>\n",
              "    <tr>\n",
              "      <th>4</th>\n",
              "      <td>Products</td>\n",
              "      <td>Quantity</td>\n",
              "      <td>Number of goods in stock</td>\n",
              "    </tr>\n",
              "    <tr>\n",
              "      <th>5</th>\n",
              "      <td>Products</td>\n",
              "      <td>Brand</td>\n",
              "      <td>Product brand name relating to product company</td>\n",
              "    </tr>\n",
              "    <tr>\n",
              "      <th>6</th>\n",
              "      <td>Products</td>\n",
              "      <td>NavigationPath</td>\n",
              "      <td>Navigation path to specific product</td>\n",
              "    </tr>\n",
              "    <tr>\n",
              "      <th>7</th>\n",
              "      <td>Products</td>\n",
              "      <td>Colour</td>\n",
              "      <td>Name default colour for the product</td>\n",
              "    </tr>\n",
              "    <tr>\n",
              "      <th>8</th>\n",
              "      <td>Products</td>\n",
              "      <td>StockCountry</td>\n",
              "      <td>Country where the stock was bought from</td>\n",
              "    </tr>\n",
              "    <tr>\n",
              "      <th>9</th>\n",
              "      <td>Products</td>\n",
              "      <td>ProductDescription</td>\n",
              "      <td>Descriptive product name</td>\n",
              "    </tr>\n",
              "    <tr>\n",
              "      <th>10</th>\n",
              "      <td>Products</td>\n",
              "      <td>PackType</td>\n",
              "      <td>The way in which the product is packaged</td>\n",
              "    </tr>\n",
              "    <tr>\n",
              "      <th>11</th>\n",
              "      <td>Products</td>\n",
              "      <td>Volume_litre</td>\n",
              "      <td>The quantity of liquid based products</td>\n",
              "    </tr>\n",
              "    <tr>\n",
              "      <th>12</th>\n",
              "      <td>Products</td>\n",
              "      <td>Warranty</td>\n",
              "      <td>Product warranty type</td>\n",
              "    </tr>\n",
              "    <tr>\n",
              "      <th>13</th>\n",
              "      <td>Products</td>\n",
              "      <td>Weight_kg</td>\n",
              "      <td>Weight of the product</td>\n",
              "    </tr>\n",
              "    <tr>\n",
              "      <th>14</th>\n",
              "      <td>Products</td>\n",
              "      <td>ItemDescription</td>\n",
              "      <td>Description of contents of the package</td>\n",
              "    </tr>\n",
              "    <tr>\n",
              "      <th>15</th>\n",
              "      <td>Products</td>\n",
              "      <td>Price</td>\n",
              "      <td>The cost of the product in Rands</td>\n",
              "    </tr>\n",
              "    <tr>\n",
              "      <th>16</th>\n",
              "      <td>Transactions</td>\n",
              "      <td>CartID</td>\n",
              "      <td>Identifies an individual basket from a user pu...</td>\n",
              "    </tr>\n",
              "    <tr>\n",
              "      <th>17</th>\n",
              "      <td>Transactions</td>\n",
              "      <td>Barcode</td>\n",
              "      <td>Barcode for item that user purchased</td>\n",
              "    </tr>\n",
              "    <tr>\n",
              "      <th>18</th>\n",
              "      <td>Transactions</td>\n",
              "      <td>Total</td>\n",
              "      <td>Total value of a transaction</td>\n",
              "    </tr>\n",
              "    <tr>\n",
              "      <th>19</th>\n",
              "      <td>Transactions</td>\n",
              "      <td>UserName</td>\n",
              "      <td>Name of customer purchasing stock</td>\n",
              "    </tr>\n",
              "    <tr>\n",
              "      <th>20</th>\n",
              "      <td>Transactions</td>\n",
              "      <td>InvoiceDate</td>\n",
              "      <td>Date on which the product was bought</td>\n",
              "    </tr>\n",
              "  </tbody>\n",
              "</table>\n",
              "</div>\n",
              "    <div class=\"colab-df-buttons\">\n",
              "\n",
              "  <div class=\"colab-df-container\">\n",
              "    <button class=\"colab-df-convert\" onclick=\"convertToInteractive('df-79f9b0f5-3c42-456b-83a9-3b658d09e33c')\"\n",
              "            title=\"Convert this dataframe to an interactive table.\"\n",
              "            style=\"display:none;\">\n",
              "\n",
              "  <svg xmlns=\"http://www.w3.org/2000/svg\" height=\"24px\" viewBox=\"0 -960 960 960\">\n",
              "    <path d=\"M120-120v-720h720v720H120Zm60-500h600v-160H180v160Zm220 220h160v-160H400v160Zm0 220h160v-160H400v160ZM180-400h160v-160H180v160Zm440 0h160v-160H620v160ZM180-180h160v-160H180v160Zm440 0h160v-160H620v160Z\"/>\n",
              "  </svg>\n",
              "    </button>\n",
              "\n",
              "  <style>\n",
              "    .colab-df-container {\n",
              "      display:flex;\n",
              "      gap: 12px;\n",
              "    }\n",
              "\n",
              "    .colab-df-convert {\n",
              "      background-color: #E8F0FE;\n",
              "      border: none;\n",
              "      border-radius: 50%;\n",
              "      cursor: pointer;\n",
              "      display: none;\n",
              "      fill: #1967D2;\n",
              "      height: 32px;\n",
              "      padding: 0 0 0 0;\n",
              "      width: 32px;\n",
              "    }\n",
              "\n",
              "    .colab-df-convert:hover {\n",
              "      background-color: #E2EBFA;\n",
              "      box-shadow: 0px 1px 2px rgba(60, 64, 67, 0.3), 0px 1px 3px 1px rgba(60, 64, 67, 0.15);\n",
              "      fill: #174EA6;\n",
              "    }\n",
              "\n",
              "    .colab-df-buttons div {\n",
              "      margin-bottom: 4px;\n",
              "    }\n",
              "\n",
              "    [theme=dark] .colab-df-convert {\n",
              "      background-color: #3B4455;\n",
              "      fill: #D2E3FC;\n",
              "    }\n",
              "\n",
              "    [theme=dark] .colab-df-convert:hover {\n",
              "      background-color: #434B5C;\n",
              "      box-shadow: 0px 1px 3px 1px rgba(0, 0, 0, 0.15);\n",
              "      filter: drop-shadow(0px 1px 2px rgba(0, 0, 0, 0.3));\n",
              "      fill: #FFFFFF;\n",
              "    }\n",
              "  </style>\n",
              "\n",
              "    <script>\n",
              "      const buttonEl =\n",
              "        document.querySelector('#df-79f9b0f5-3c42-456b-83a9-3b658d09e33c button.colab-df-convert');\n",
              "      buttonEl.style.display =\n",
              "        google.colab.kernel.accessAllowed ? 'block' : 'none';\n",
              "\n",
              "      async function convertToInteractive(key) {\n",
              "        const element = document.querySelector('#df-79f9b0f5-3c42-456b-83a9-3b658d09e33c');\n",
              "        const dataTable =\n",
              "          await google.colab.kernel.invokeFunction('convertToInteractive',\n",
              "                                                    [key], {});\n",
              "        if (!dataTable) return;\n",
              "\n",
              "        const docLinkHtml = 'Like what you see? Visit the ' +\n",
              "          '<a target=\"_blank\" href=https://colab.research.google.com/notebooks/data_table.ipynb>data table notebook</a>'\n",
              "          + ' to learn more about interactive tables.';\n",
              "        element.innerHTML = '';\n",
              "        dataTable['output_type'] = 'display_data';\n",
              "        await google.colab.output.renderOutput(dataTable, element);\n",
              "        const docLink = document.createElement('div');\n",
              "        docLink.innerHTML = docLinkHtml;\n",
              "        element.appendChild(docLink);\n",
              "      }\n",
              "    </script>\n",
              "  </div>\n",
              "\n",
              "\n",
              "<div id=\"df-d01d696d-243b-4677-9fbb-8a36e5046285\">\n",
              "  <button class=\"colab-df-quickchart\" onclick=\"quickchart('df-d01d696d-243b-4677-9fbb-8a36e5046285')\"\n",
              "            title=\"Suggest charts\"\n",
              "            style=\"display:none;\">\n",
              "\n",
              "<svg xmlns=\"http://www.w3.org/2000/svg\" height=\"24px\"viewBox=\"0 0 24 24\"\n",
              "     width=\"24px\">\n",
              "    <g>\n",
              "        <path d=\"M19 3H5c-1.1 0-2 .9-2 2v14c0 1.1.9 2 2 2h14c1.1 0 2-.9 2-2V5c0-1.1-.9-2-2-2zM9 17H7v-7h2v7zm4 0h-2V7h2v10zm4 0h-2v-4h2v4z\"/>\n",
              "    </g>\n",
              "</svg>\n",
              "  </button>\n",
              "\n",
              "<style>\n",
              "  .colab-df-quickchart {\n",
              "      --bg-color: #E8F0FE;\n",
              "      --fill-color: #1967D2;\n",
              "      --hover-bg-color: #E2EBFA;\n",
              "      --hover-fill-color: #174EA6;\n",
              "      --disabled-fill-color: #AAA;\n",
              "      --disabled-bg-color: #DDD;\n",
              "  }\n",
              "\n",
              "  [theme=dark] .colab-df-quickchart {\n",
              "      --bg-color: #3B4455;\n",
              "      --fill-color: #D2E3FC;\n",
              "      --hover-bg-color: #434B5C;\n",
              "      --hover-fill-color: #FFFFFF;\n",
              "      --disabled-bg-color: #3B4455;\n",
              "      --disabled-fill-color: #666;\n",
              "  }\n",
              "\n",
              "  .colab-df-quickchart {\n",
              "    background-color: var(--bg-color);\n",
              "    border: none;\n",
              "    border-radius: 50%;\n",
              "    cursor: pointer;\n",
              "    display: none;\n",
              "    fill: var(--fill-color);\n",
              "    height: 32px;\n",
              "    padding: 0;\n",
              "    width: 32px;\n",
              "  }\n",
              "\n",
              "  .colab-df-quickchart:hover {\n",
              "    background-color: var(--hover-bg-color);\n",
              "    box-shadow: 0 1px 2px rgba(60, 64, 67, 0.3), 0 1px 3px 1px rgba(60, 64, 67, 0.15);\n",
              "    fill: var(--button-hover-fill-color);\n",
              "  }\n",
              "\n",
              "  .colab-df-quickchart-complete:disabled,\n",
              "  .colab-df-quickchart-complete:disabled:hover {\n",
              "    background-color: var(--disabled-bg-color);\n",
              "    fill: var(--disabled-fill-color);\n",
              "    box-shadow: none;\n",
              "  }\n",
              "\n",
              "  .colab-df-spinner {\n",
              "    border: 2px solid var(--fill-color);\n",
              "    border-color: transparent;\n",
              "    border-bottom-color: var(--fill-color);\n",
              "    animation:\n",
              "      spin 1s steps(1) infinite;\n",
              "  }\n",
              "\n",
              "  @keyframes spin {\n",
              "    0% {\n",
              "      border-color: transparent;\n",
              "      border-bottom-color: var(--fill-color);\n",
              "      border-left-color: var(--fill-color);\n",
              "    }\n",
              "    20% {\n",
              "      border-color: transparent;\n",
              "      border-left-color: var(--fill-color);\n",
              "      border-top-color: var(--fill-color);\n",
              "    }\n",
              "    30% {\n",
              "      border-color: transparent;\n",
              "      border-left-color: var(--fill-color);\n",
              "      border-top-color: var(--fill-color);\n",
              "      border-right-color: var(--fill-color);\n",
              "    }\n",
              "    40% {\n",
              "      border-color: transparent;\n",
              "      border-right-color: var(--fill-color);\n",
              "      border-top-color: var(--fill-color);\n",
              "    }\n",
              "    60% {\n",
              "      border-color: transparent;\n",
              "      border-right-color: var(--fill-color);\n",
              "    }\n",
              "    80% {\n",
              "      border-color: transparent;\n",
              "      border-right-color: var(--fill-color);\n",
              "      border-bottom-color: var(--fill-color);\n",
              "    }\n",
              "    90% {\n",
              "      border-color: transparent;\n",
              "      border-bottom-color: var(--fill-color);\n",
              "    }\n",
              "  }\n",
              "</style>\n",
              "\n",
              "  <script>\n",
              "    async function quickchart(key) {\n",
              "      const quickchartButtonEl =\n",
              "        document.querySelector('#' + key + ' button');\n",
              "      quickchartButtonEl.disabled = true;  // To prevent multiple clicks.\n",
              "      quickchartButtonEl.classList.add('colab-df-spinner');\n",
              "      try {\n",
              "        const charts = await google.colab.kernel.invokeFunction(\n",
              "            'suggestCharts', [key], {});\n",
              "      } catch (error) {\n",
              "        console.error('Error during call to suggestCharts:', error);\n",
              "      }\n",
              "      quickchartButtonEl.classList.remove('colab-df-spinner');\n",
              "      quickchartButtonEl.classList.add('colab-df-quickchart-complete');\n",
              "    }\n",
              "    (() => {\n",
              "      let quickchartButtonEl =\n",
              "        document.querySelector('#df-d01d696d-243b-4677-9fbb-8a36e5046285 button');\n",
              "      quickchartButtonEl.style.display =\n",
              "        google.colab.kernel.accessAllowed ? 'block' : 'none';\n",
              "    })();\n",
              "  </script>\n",
              "</div>\n",
              "\n",
              "  <div id=\"id_5c213144-e749-4b1b-8621-c5fd2cca02fd\">\n",
              "    <style>\n",
              "      .colab-df-generate {\n",
              "        background-color: #E8F0FE;\n",
              "        border: none;\n",
              "        border-radius: 50%;\n",
              "        cursor: pointer;\n",
              "        display: none;\n",
              "        fill: #1967D2;\n",
              "        height: 32px;\n",
              "        padding: 0 0 0 0;\n",
              "        width: 32px;\n",
              "      }\n",
              "\n",
              "      .colab-df-generate:hover {\n",
              "        background-color: #E2EBFA;\n",
              "        box-shadow: 0px 1px 2px rgba(60, 64, 67, 0.3), 0px 1px 3px 1px rgba(60, 64, 67, 0.15);\n",
              "        fill: #174EA6;\n",
              "      }\n",
              "\n",
              "      [theme=dark] .colab-df-generate {\n",
              "        background-color: #3B4455;\n",
              "        fill: #D2E3FC;\n",
              "      }\n",
              "\n",
              "      [theme=dark] .colab-df-generate:hover {\n",
              "        background-color: #434B5C;\n",
              "        box-shadow: 0px 1px 3px 1px rgba(0, 0, 0, 0.15);\n",
              "        filter: drop-shadow(0px 1px 2px rgba(0, 0, 0, 0.3));\n",
              "        fill: #FFFFFF;\n",
              "      }\n",
              "    </style>\n",
              "    <button class=\"colab-df-generate\" onclick=\"generateWithVariable('data_description')\"\n",
              "            title=\"Generate code using this dataframe.\"\n",
              "            style=\"display:none;\">\n",
              "\n",
              "  <svg xmlns=\"http://www.w3.org/2000/svg\" height=\"24px\"viewBox=\"0 0 24 24\"\n",
              "       width=\"24px\">\n",
              "    <path d=\"M7,19H8.4L18.45,9,17,7.55,7,17.6ZM5,21V16.75L18.45,3.32a2,2,0,0,1,2.83,0l1.4,1.43a1.91,1.91,0,0,1,.58,1.4,1.91,1.91,0,0,1-.58,1.4L9.25,21ZM18.45,9,17,7.55Zm-12,3A5.31,5.31,0,0,0,4.9,8.1,5.31,5.31,0,0,0,1,6.5,5.31,5.31,0,0,0,4.9,4.9,5.31,5.31,0,0,0,6.5,1,5.31,5.31,0,0,0,8.1,4.9,5.31,5.31,0,0,0,12,6.5,5.46,5.46,0,0,0,6.5,12Z\"/>\n",
              "  </svg>\n",
              "    </button>\n",
              "    <script>\n",
              "      (() => {\n",
              "      const buttonEl =\n",
              "        document.querySelector('#id_5c213144-e749-4b1b-8621-c5fd2cca02fd button.colab-df-generate');\n",
              "      buttonEl.style.display =\n",
              "        google.colab.kernel.accessAllowed ? 'block' : 'none';\n",
              "\n",
              "      buttonEl.onclick = () => {\n",
              "        google.colab.notebook.generateWithVariable('data_description');\n",
              "      }\n",
              "      })();\n",
              "    </script>\n",
              "  </div>\n",
              "\n",
              "    </div>\n",
              "  </div>\n"
            ],
            "application/vnd.google.colaboratory.intrinsic+json": {
              "type": "dataframe",
              "variable_name": "data_description",
              "summary": "{\n  \"name\": \"data_description\",\n  \"rows\": 21,\n  \"fields\": [\n    {\n      \"column\": \"Table Name\",\n      \"properties\": {\n        \"dtype\": \"category\",\n        \"num_unique_values\": 2,\n        \"samples\": [\n          \"Transactions\",\n          \"Products\"\n        ],\n        \"semantic_type\": \"\",\n        \"description\": \"\"\n      }\n    },\n    {\n      \"column\": \"Column Name\",\n      \"properties\": {\n        \"dtype\": \"string\",\n        \"num_unique_values\": 20,\n        \"samples\": [\n          \"Width\",\n          \"Total\"\n        ],\n        \"semantic_type\": \"\",\n        \"description\": \"\"\n      }\n    },\n    {\n      \"column\": \"Desciption \",\n      \"properties\": {\n        \"dtype\": \"string\",\n        \"num_unique_values\": 21,\n        \"samples\": [\n          \"Width of the product once assembled\",\n          \"Barcode for item that user purchased\"\n        ],\n        \"semantic_type\": \"\",\n        \"description\": \"\"\n      }\n    }\n  ]\n}"
            }
          },
          "metadata": {},
          "execution_count": 5
        }
      ],
      "source": [
        "# DO NOT EDIT THIS CELL\n",
        "import pandas as pd\n",
        "data_description = pd.read_excel('Data Description.xlsx')\n",
        "data_description"
      ]
    },
    {
      "cell_type": "markdown",
      "metadata": {
        "id": "bZd01SEagwv7"
      },
      "source": [
        "<a id='Setting_up'></a>\n",
        "### 4. Setting up the database"
      ]
    },
    {
      "cell_type": "code",
      "execution_count": null,
      "metadata": {
        "id": "-nieAE6tsiuj"
      },
      "outputs": [],
      "source": [
        "#DO NOT EDIT THIS CELL\n",
        "conn = sqlite3.connect('bhejane.db')\n",
        "cursor = conn.cursor()"
      ]
    },
    {
      "cell_type": "markdown",
      "metadata": {
        "id": "G-WGBpmDgwv-"
      },
      "source": [
        "#### Creating both Products and Transaction Tables"
      ]
    },
    {
      "cell_type": "code",
      "execution_count": null,
      "metadata": {
        "id": "qp-DQik7gwv-",
        "outputId": "16d1c6b9-fd74-40b1-c8a9-11807656b122"
      },
      "outputs": [
        {
          "name": "stdout",
          "output_type": "stream",
          "text": [
            " * sqlite:///bhejane.db\n",
            "Done.\n",
            "Done.\n",
            "Done.\n",
            "Done.\n"
          ]
        },
        {
          "data": {
            "text/plain": [
              "[]"
            ]
          },
          "execution_count": 4,
          "metadata": {},
          "output_type": "execute_result"
        }
      ],
      "source": [
        "%%sql\n",
        "--DO NOT EDIT THIS CELL\n",
        "DROP TABLE IF EXISTS \"Products\";\n",
        "DROP TABLE IF EXISTS \"Transactions\";\n",
        "\n",
        "CREATE TABLE \"Products\" (\n",
        "    \"Width\"   REAL,\n",
        "    \"Length\"  REAL,\n",
        "    \"Height\"  REAL,\n",
        "    \"Barcode\" VARCHAR(150) NOT NULL,\n",
        "    \"Quantity\" INTEGER NOT NULL,\n",
        "    \"Brand\" VARCHAR(150),\n",
        "    \"NavigationPath\" VARCHAR(150),\n",
        "    \"Colour\" VARCHAR(150),\n",
        "    \"StockCountry\" VARCHAR(150),\n",
        "    \"ProductDescription\" VARCHAR(150) NOT NULL,\n",
        "    \"PackType\" VARCHAR(150),\n",
        "    \"Volume_litre\" REAL,\n",
        "    \"Warranty\" VARCHAR(150),\n",
        "    \"Weight_kg\" REAL,\n",
        "    \"ItemDescription\" VARCHAR(150),\n",
        "    \"Price\" REAL\n",
        ");\n",
        "\n",
        "\n",
        "CREATE TABLE \"Transactions\" (\n",
        "    \"CartID\" INTEGER,\n",
        "    \"Barcode\" VARCHAR(150),\n",
        "    \"Total\" REAL,\n",
        "    \"UserName\" VARCHAR(150),\n",
        "    \"InvoiceDate\" DATETIME\n",
        ");"
      ]
    },
    {
      "cell_type": "markdown",
      "metadata": {
        "id": "m3W5ah4PgwwG"
      },
      "source": [
        "#### Load Data into Product and Transaction tables"
      ]
    },
    {
      "cell_type": "code",
      "execution_count": null,
      "metadata": {
        "id": "VW_oEkizgwwH"
      },
      "outputs": [],
      "source": [
        "# DO NOT EDIT CELL\n",
        "# Load data into Product table\n",
        "with open('bhejane_covid_essentials_Products.csv','r') as fin: # `with` statement available in 2.5+\n",
        "    # csv.DictReader uses first line in file for column headings by default\n",
        "    dr = csv.DictReader(fin) # comma is default delimiter\n",
        "    to_db = [(i['Width'],i['Length'],i['Height'], i['Barcode'], i['Quantity'], i['Brand'], i['NavigationPath'], i['Colour'], i['StockCountry'], i['ProductDescription'],i['PackType'],i['Volume_litre'],i['Warranty'],i['Weight_kg'],i[\"ItemDescription\"],i['Price']) for i in dr]\n",
        "\n",
        "cursor.executemany(\"INSERT INTO Products VALUES (?, ?, ?, ?, ?, ?, ?, ?, ?, ?, ?, ?, ?, ?, ?, ?);\", to_db)\n",
        "conn.commit()\n",
        "\n",
        "with open('bhejane_covid_essentials_Transactions.csv','r') as fin: # `with` statement available in 2.5+\n",
        "    # csv.DictReader uses first line in file for column headings by default\n",
        "    dr = csv.DictReader(fin) # comma is default delimiter\n",
        "    to_db = [(i['CartID'],i['Barcode'], i['Total'], i['UserName'], i['InvoiceDate']) for i in dr]\n",
        "\n",
        "cursor.executemany(\"INSERT INTO Transactions VALUES (?, ?, ?, ?, ?);\", to_db)\n",
        "conn.commit()"
      ]
    },
    {
      "cell_type": "markdown",
      "metadata": {
        "id": "uo9PWlZtgwwO"
      },
      "source": [
        "<a id='ERD'></a>\n",
        "### 5. Denormalized Database Tables\n",
        "\n",
        "\n",
        "<br>\n",
        "\n",
        "<img src=\"https://raw.githubusercontent.com/Explore-AI/Pictures/master/SQL4DS/SQL_Predict/Denormalized_Tables.png\" alt=\"Denormalized Tables\" border=\"0\">"
      ]
    },
    {
      "cell_type": "markdown",
      "metadata": {
        "id": "dRgeTsqbsiuk"
      },
      "source": [
        "#### 5.1 Explore the Denormalized Tables\n",
        "Familiarize yourself with the data given in the two tables by writing your own SQL queries to explore properties of the dataset.i.e Look for data inconsistencies, anormalies, redundancies etc to guide your normalization process.\n",
        "\n",
        "This section will not be graded - think of it as your own scratch pad.\n",
        "\n"
      ]
    },
    {
      "cell_type": "code",
      "execution_count": null,
      "metadata": {
        "scrolled": true,
        "id": "5YMDnTNjsiuk",
        "outputId": "7df3c757-b816-4e88-dcd9-dd75f223a199"
      },
      "outputs": [
        {
          "name": "stdout",
          "output_type": "stream",
          "text": [
            " * sqlite:///bhejane.db\n",
            "Done.\n"
          ]
        },
        {
          "data": {
            "text/html": [
              "<table>\n",
              "    <tr>\n",
              "        <th>Width</th>\n",
              "        <th>Length</th>\n",
              "        <th>Height</th>\n",
              "        <th>Barcode</th>\n",
              "        <th>Quantity</th>\n",
              "        <th>Brand</th>\n",
              "        <th>NavigationPath</th>\n",
              "        <th>Colour</th>\n",
              "        <th>StockCountry</th>\n",
              "        <th>ProductDescription</th>\n",
              "        <th>PackType</th>\n",
              "        <th>Volume_litre</th>\n",
              "        <th>Warranty</th>\n",
              "        <th>Weight_kg</th>\n",
              "        <th>ItemDescription</th>\n",
              "        <th>Price</th>\n",
              "    </tr>\n",
              "    <tr>\n",
              "        <td></td>\n",
              "        <td></td>\n",
              "        <td></td>\n",
              "        <td>300507946</td>\n",
              "        <td>493</td>\n",
              "        <td>Hikvision</td>\n",
              "        <td>Computers &amp; Tablets / Smart Home &amp; Connected Living / Home Security / Security Cameras</td>\n",
              "        <td></td>\n",
              "        <td></td>\n",
              "        <td>Hikvision 1080P 2MP Turbo HD IR Bullet Camera</td>\n",
              "        <td></td>\n",
              "        <td>0.0</td>\n",
              "        <td>Limited (6 months)</td>\n",
              "        <td></td>\n",
              "        <td>1 x Hikvision 1080P Bullet camera</td>\n",
              "        <td>399.0</td>\n",
              "    </tr>\n",
              "    <tr>\n",
              "        <td></td>\n",
              "        <td></td>\n",
              "        <td></td>\n",
              "        <td>300507946</td>\n",
              "        <td>493</td>\n",
              "        <td>Hikvision</td>\n",
              "        <td>Computers &amp; Tablets / Smart Home &amp; Connected Living / Home Security / Security Cameras</td>\n",
              "        <td></td>\n",
              "        <td></td>\n",
              "        <td>Hikvision 1080P 2MP Turbo HD IR Bullet Camera</td>\n",
              "        <td></td>\n",
              "        <td>0.0</td>\n",
              "        <td>Limited (6 months)</td>\n",
              "        <td></td>\n",
              "        <td>Manual</td>\n",
              "        <td>399.0</td>\n",
              "    </tr>\n",
              "</table>"
            ],
            "text/plain": [
              "[('', '', '', '300507946', 493, 'Hikvision', 'Computers & Tablets / Smart Home & Connected Living / Home Security / Security Cameras', '', '', 'Hikvision 1080P 2MP Turbo HD IR Bullet Camera', '', 0.0, 'Limited (6 months)', '', '1 x Hikvision 1080P Bullet camera', 399.0),\n",
              " ('', '', '', '300507946', 493, 'Hikvision', 'Computers & Tablets / Smart Home & Connected Living / Home Security / Security Cameras', '', '', 'Hikvision 1080P 2MP Turbo HD IR Bullet Camera', '', 0.0, 'Limited (6 months)', '', 'Manual', 399.0)]"
            ]
          },
          "execution_count": 6,
          "metadata": {},
          "output_type": "execute_result"
        }
      ],
      "source": [
        "%%sql\n",
        "-- #Use this section to explore the database by writing your own queries\n",
        "SELECT * FROM Products\n",
        "LIMIT 2;"
      ]
    },
    {
      "cell_type": "markdown",
      "metadata": {
        "id": "E_X7a8nPsiuk"
      },
      "source": [
        "### 6. Normalize the given Database tables to the 1st Normal Form (1NF)\n",
        "\n",
        "Given the below below target ERD create new tables such the the database conforms to the 1st Normal Form\n",
        "\n",
        "<img src=\"https://raw.githubusercontent.com/Explore-AI/Pictures/master/SQL4DS/SQL_Predict/1NF.png\" alt=\"1st Normal Form ERD\" border=\"0\">\n",
        "\n",
        "It is suggested that you create all your tables before attempting to populate them with data, this will help reduce errors that might creep up due to logical dependencies."
      ]
    },
    {
      "cell_type": "markdown",
      "metadata": {
        "id": "wnvs0mRGsiuk"
      },
      "source": [
        "#### 6.1 Create the tables required for the 1st Normal Form\n",
        "Use the above ERD sketch to create the required tables. Please label your tables as they appear in the ERD sketch"
      ]
    },
    {
      "cell_type": "code",
      "execution_count": null,
      "metadata": {
        "id": "WxhiH-yjsiul",
        "outputId": "59206771-d3e6-4574-81f1-480a846f483b"
      },
      "outputs": [
        {
          "name": "stdout",
          "output_type": "stream",
          "text": [
            " * sqlite:///bhejane.db\n",
            "Done.\n",
            "Done.\n",
            "Done.\n",
            "Done.\n"
          ]
        },
        {
          "data": {
            "text/plain": [
              "[]"
            ]
          },
          "execution_count": 7,
          "metadata": {},
          "output_type": "execute_result"
        }
      ],
      "source": [
        "%%sql\n",
        "--#Create tables required for 1NF\n",
        "DROP TABLE IF EXISTS \"Products_1NF\";\n",
        "DROP TABLE IF EXISTS \"Transactions_1NF\";\n",
        "\n",
        "CREATE TABLE \"Products_1NF\"(\n",
        "    \"Barcode\" VARCHAR(150) NOT NULL,\n",
        "    \"NavigationPath\" VARCHAR(150) NOT NULL,\n",
        "    \"ItemDescription\" VARCHAR(150) NOT NULL,\n",
        "    \"ProductDescription\" VARCHAR(150) NOT NULL,\n",
        "    \"Brand\" VARCHAR(150),\n",
        "    \"Price\" REAL NOT NULL,\n",
        "    \"Quantity\" INTEGER NOT NULL,\n",
        "    \"PackType\" VARCHAR(150),\n",
        "    \"Warranty\" VARCHAR(150),\n",
        "    \"StockCountry\" VARCHAR(150),\n",
        "    \"Colour\" VARCHAR(150),\n",
        "    \"Weight_kg\" REAL,\n",
        "    \"Volume_litre\" REAL,\n",
        "    \"Length\" REAL,\n",
        "    \"Width\" REAL,\n",
        "    \"Height\" REAL,\n",
        "    FOREIGN KEY (\"Barcode\") REFERENCES \"Transactions_1NF\" (\"Barcode\"),\n",
        "    PRIMARY KEY(\"Barcode\",\"NavigationPath\",\"ItemDescription\")\n",
        ");\n",
        "\n",
        "CREATE TABLE \"Transactions_1NF\" (\n",
        "    \"CartID\" INTEGER NOT NULL,\n",
        "    \"Barcode\" VARCHAR(150) NOT NULL,\n",
        "    \"UserName\" VARCHAR(150) NOT NULL,\n",
        "    \"InvoiceDate\" DATETIME NOT NULL,\n",
        "    \"Total\" REAL NOT NULL,\n",
        "    FOREIGN KEY (\"Barcode\") REFERENCES \"Products_1NF\" (\"Barcode\"),\n",
        "    PRIMARY KEY(\"CartID\", \"Barcode\")\n",
        ");"
      ]
    },
    {
      "cell_type": "markdown",
      "metadata": {
        "id": "RyR_tScnsiul"
      },
      "source": [
        "#### 6.2 Populate the tables you have create in the above section.\n",
        "\n",
        "Populate the tables such that the database conforms to the 1st Normal Form"
      ]
    },
    {
      "cell_type": "code",
      "execution_count": null,
      "metadata": {
        "id": "St4llvlbsiul",
        "outputId": "f4b2230d-4f02-49c9-e34a-9bf0b2d0bf96"
      },
      "outputs": [
        {
          "name": "stdout",
          "output_type": "stream",
          "text": [
            " * sqlite:///bhejane.db\n",
            "0 rows affected.\n",
            "0 rows affected.\n",
            "1162 rows affected.\n",
            "278 rows affected.\n"
          ]
        },
        {
          "data": {
            "text/plain": [
              "[]"
            ]
          },
          "execution_count": 8,
          "metadata": {},
          "output_type": "execute_result"
        }
      ],
      "source": [
        "%%sql\n",
        "--#Populate the 1NF tables\n",
        "DELETE FROM \"Products_1NF\";\n",
        "DELETE FROM \"Transactions_1NF\";\n",
        "\n",
        "INSERT INTO \"Products_1NF\" (\"Barcode\",\"NavigationPath\",\"ItemDescription\",\"Colour\",\"ProductDescription\",\"Brand\",\n",
        "                            \"Price\",\"Quantity\",\"PackType\",\"Warranty\",\"StockCountry\",\"Weight_kg\",\n",
        "                            \"Volume_litre\",\"Length\",\"Width\",\"Height\")\n",
        "SELECT DISTINCT\n",
        "     Barcode\n",
        "    ,NavigationPath\n",
        "    ,ItemDescription\n",
        "    ,Colour\n",
        "    ,ProductDescription\n",
        "    ,Brand\n",
        "    ,Price\n",
        "    ,Quantity\n",
        "    ,PackType\n",
        "    ,Warranty\n",
        "    ,StockCountry\n",
        "    ,Weight_kg\n",
        "    ,Volume_litre\n",
        "    ,Length\n",
        "    ,Width\n",
        "    ,Height\n",
        "FROM\n",
        "    Products;\n",
        "\n",
        "INSERT INTO \"Transactions_1NF\"(\"CartID\",\"Barcode\",\"UserName\",\"InvoiceDate\",\"Total\")\n",
        "SELECT DISTINCT\n",
        "    CartID\n",
        "    ,Barcode\n",
        "    ,UserName\n",
        "    ,InvoiceDate\n",
        "    ,Total\n",
        "FROM\n",
        "    Transactions;\n"
      ]
    },
    {
      "cell_type": "markdown",
      "metadata": {
        "id": "u7xXNs2zsiul"
      },
      "source": [
        "###  7. Convert the database into its 2nd Normal Form (2NF).\n",
        "\n",
        "Please label your tables as they appear in the ERD sketch.\n",
        "\n",
        "<img src=\"https://raw.githubusercontent.com/Explore-AI/Pictures/master/SQL4DS/SQL_Predict/2NF.png\" alt=\"2nd Normal Form ERD\" border=\"0\">"
      ]
    },
    {
      "cell_type": "code",
      "execution_count": null,
      "metadata": {
        "id": "EnbIm-53siul",
        "outputId": "7220e8e6-d529-4816-c0ac-bc170fb8c0b1"
      },
      "outputs": [
        {
          "name": "stdout",
          "output_type": "stream",
          "text": [
            " * sqlite:///bhejane.db\n",
            "Done.\n",
            "Done.\n",
            "Done.\n",
            "Done.\n",
            "Done.\n",
            "Done.\n",
            "Done.\n",
            "Done.\n",
            "Done.\n",
            "Done.\n"
          ]
        },
        {
          "data": {
            "text/plain": [
              "[]"
            ]
          },
          "execution_count": 9,
          "metadata": {},
          "output_type": "execute_result"
        }
      ],
      "source": [
        "%%sql\n",
        "--#Create tables required for 2NF\n",
        "\n",
        "DROP TABLE IF EXISTS \"Products_2NF\";\n",
        "DROP TABLE IF EXISTS \"Transactions_2NF\";\n",
        "DROP TABLE IF EXISTS \"Navigation_2NF\";\n",
        "DROP TABLE IF EXISTS \"PackageContents_2NF\";\n",
        "DROP TABLE IF EXISTS \"Colours_2NF\";\n",
        "\n",
        "\n",
        "\n",
        "CREATE TABLE \"Products_2NF\"(\n",
        "    \"RegistryID\" INTEGER NOT NULL,\n",
        "    \"Barcode\" VARCHAR(150) NOT NULL,\n",
        "    \"ProductDescription\" VARCHAR(150) NOT NULL,\n",
        "    \"Brand\" VARCHAR(150),\n",
        "    \"Price\" REAL NOT NULL,\n",
        "    \"Quantity\" INTEGER NOT NULL,\n",
        "    \"StockCountry\" VARCHAR(150),\n",
        "    \"Weight_kg\" REAL,\n",
        "    \"Volume_litre\" REAL,\n",
        "    \"Length\" REAL,\n",
        "    \"Width\" REAL,\n",
        "    \"Height\" REAL,\n",
        "    \"PathID\" INTEGER,\n",
        "    \"ItemID\" INTEGER,\n",
        "    \"ColourID\" INTEGER,\n",
        "    PRIMARY KEY(\"RegistryID\" AUTOINCREMENT),\n",
        "    FOREIGN KEY(\"PathID\") REFERENCES \"Navigation_2NF\" (\"PathID\"),\n",
        "    FOREIGN KEY(\"ItemID\") REFERENCES \"PackageContents_2NF\" (\"ItemID\"),\n",
        "    FOREIGN KEY(\"ColourID\") REFERENCES \"Colours_2NF\" (\"ColourID\")\n",
        "    FOREIGN KEY (\"Barcode\") REFERENCES \"Transactions_2NF\" (\"Barcode\")\n",
        ");\n",
        "\n",
        "\n",
        "\n",
        "CREATE TABLE \"Transactions_2NF\" (\n",
        "    \"CartID\" INTEGER NOT NULL,\n",
        "    \"Barcode\" VARCHAR(150) NOT NULL,\n",
        "    \"UserName\" VARCHAR(150) NOT NULL,\n",
        "    \"InvoiceDate\" DATETIME NOT NULL,\n",
        "    \"Total\" REAL NOT NULL,\n",
        "    FOREIGN KEY (\"Barcode\") REFERENCES \"Products_2NF\" (\"Barcode\"),\n",
        "    PRIMARY KEY(\"CartID\", \"Barcode\")\n",
        ");\n",
        "\n",
        "\n",
        "CREATE TABLE \"Navigation_2NF\"(\n",
        "    \"PathID\" INTEGER NOT NULL,\n",
        "    \"NavigationPath\" VARCHAR(150),\n",
        "    PRIMARY KEY(\"PathID\" AUTOINCREMENT)\n",
        ");\n",
        "\n",
        "CREATE TABLE \"Colours_2NF\"(\n",
        "    \"ColourID\" INTEGER NOT NULL,\n",
        "    \"Colour\" VARCHAR(150),\n",
        "    PRIMARY KEY(\"ColourID\" AUTOINCREMENT)\n",
        ");\n",
        "\n",
        "CREATE TABLE \"PackageContents_2NF\"(\n",
        "    \"ItemID\" INTEGER NOT NULL,\n",
        "    \"ItemDescription\" VARCHAR(150),\n",
        "    \"PackType\" VARCHAR(150),\n",
        "    \"Warranty\" VARCHAR(150),\n",
        "    PRIMARY KEY(\"ItemID\" AUTOINCREMENT)\n",
        ");\n"
      ]
    },
    {
      "cell_type": "code",
      "execution_count": null,
      "metadata": {
        "id": "VlyKaFNosium",
        "outputId": "f6a87c82-91fa-46e9-f106-c24c638b6610"
      },
      "outputs": [
        {
          "name": "stdout",
          "output_type": "stream",
          "text": [
            " * sqlite:///bhejane.db\n",
            "0 rows affected.\n",
            "0 rows affected.\n",
            "0 rows affected.\n",
            "0 rows affected.\n",
            "0 rows affected.\n",
            "396 rows affected.\n",
            "600 rows affected.\n",
            "17 rows affected.\n",
            "1214 rows affected.\n",
            "275 rows affected.\n"
          ]
        },
        {
          "data": {
            "text/plain": [
              "[]"
            ]
          },
          "execution_count": 10,
          "metadata": {},
          "output_type": "execute_result"
        }
      ],
      "source": [
        "%%sql\n",
        "-- #Populate the tables so that they conform to 2NF\n",
        "\n",
        "DELETE FROM \"Products_2NF\";\n",
        "DELETE FROM \"Transactions_2NF\";\n",
        "DELETE FROM \"Navigation_2NF\";\n",
        "DELETE FROM \"PackageContents_2NF\";\n",
        "DELETE FROM \"Colours_2NF\";\n",
        "\n",
        "\n",
        "INSERT INTO \"Navigation_2NF\"(\"NavigationPath\")\n",
        "SELECT DISTINCT\n",
        "    NavigationPath\n",
        "FROM\n",
        "    Products;\n",
        "\n",
        "INSERT INTO \"PackageContents_2NF\"(\"ItemDescription\",\"PackType\",\"Warranty\")\n",
        "SELECT DISTINCT\n",
        "    ItemDescription,\n",
        "    PackType,\n",
        "    Warranty\n",
        "FROM\n",
        "    Products\n",
        "WHERE ItemDescription <> '';\n",
        "\n",
        "INSERT INTO \"Colours_2NF\"(\"Colour\")\n",
        "SELECT DISTINCT\n",
        "    Colour\n",
        "FROM\n",
        "    Products\n",
        "WHERE Colour <> '';\n",
        "\n",
        "INSERT INTO \"Products_2NF\" (\"PathID\",\"ItemID\",\"ColourID\",\"Barcode\",\"ProductDescription\",\"Brand\",\"Price\",\n",
        "                            \"Quantity\",\"StockCountry\",\"Weight_kg\",\"Volume_litre\",\n",
        "                            \"Length\",\"Width\",\"Height\")\n",
        "SELECT\n",
        "    Navigation_2NF.PathID,\n",
        "    PackageContents_2NF.ItemID,\n",
        "    Colours_2NF.ColourID,\n",
        "    Barcode,\n",
        "    ProductDescription,\n",
        "    Brand,\n",
        "    Price,\n",
        "    Quantity,\n",
        "    StockCountry,\n",
        "    Weight_kg,\n",
        "    Volume_litre,\n",
        "    Length,\n",
        "    Width,\n",
        "    Height\n",
        "FROM\n",
        "    Products\n",
        "LEFT JOIN Navigation_2NF ON Products.NavigationPath = Navigation_2NF.NavigationPath\n",
        "LEFT JOIN PackageContents_2NF ON Products.ItemDescription = PackageContents_2NF.ItemDescription\n",
        "LEFT JOIN Colours_2NF ON Products.Colour = Colours_2NF.Colour;\n",
        "\n",
        "\n",
        "INSERT INTO \"Transactions_2NF\"(\"CartID\",\"Barcode\",\"UserName\",\"InvoiceDate\",\"Total\")\n",
        "SELECT DISTINCT\n",
        "    CartID\n",
        "    ,Transactions.Barcode\n",
        "    ,UserName\n",
        "    ,InvoiceDate\n",
        "    ,Total\n",
        "FROM\n",
        "    Transactions\n",
        "JOIN Products_2NF ON Transactions.Barcode = Products_2NF.Barcode ;\n"
      ]
    },
    {
      "cell_type": "markdown",
      "metadata": {
        "id": "2BXpm06CgwwO"
      },
      "source": [
        "<a id='Target_ERD'></a>\n",
        "### 8. Convert the table into its 3rd Normal Form (3NF)\n",
        "\n",
        "Please label your tables as they appear in the ERD sketch\n",
        "\n",
        "<br>\n",
        "\n",
        "<img src=\"https://raw.githubusercontent.com/Explore-AI/Pictures/master/SQL4DS/SQL_Predict/3NF.png\" alt=\"3rd Normal Form ERD\" border=\"0\"></a>"
      ]
    },
    {
      "cell_type": "code",
      "execution_count": null,
      "metadata": {
        "id": "nSceV8iQgwwP",
        "outputId": "8f243bda-2032-4c7b-9c58-e6110cdb9505"
      },
      "outputs": [
        {
          "name": "stdout",
          "output_type": "stream",
          "text": [
            " * sqlite:///bhejane.db\n",
            "Done.\n",
            "Done.\n",
            "Done.\n",
            "Done.\n",
            "Done.\n",
            "Done.\n",
            "Done.\n",
            "Done.\n",
            "Done.\n",
            "Done.\n",
            "Done.\n",
            "Done.\n",
            "Done.\n",
            "Done.\n",
            "Done.\n",
            "Done.\n"
          ]
        },
        {
          "data": {
            "text/plain": [
              "[]"
            ]
          },
          "execution_count": 11,
          "metadata": {},
          "output_type": "execute_result"
        }
      ],
      "source": [
        "%%sql\n",
        "\n",
        "--#Create tables required for 2NF\n",
        "DROP TABLE IF EXISTS \"Transactions_3NF\";\n",
        "DROP TABLE IF EXISTS \"Products_3NF\";\n",
        "DROP TABLE IF EXISTS \"Users_3NF\";\n",
        "DROP TABLE IF EXISTS \"Navigation_3NF\";\n",
        "DROP TABLE IF EXISTS \"PackageContents_3NF\";\n",
        "DROP TABLE IF EXISTS \"Colours_3NF\";\n",
        "DROP TABLE IF EXISTS \"Brands_3NF\";\n",
        "DROP TABLE IF EXISTS \"Locations_3NF\";\n",
        "\n",
        "CREATE TABLE \"Products_3NF\" (\n",
        "    \"RegistryID\" INTEGER NOT NULL,\n",
        "    \"Barcode\" VARCHAR(150) NOT NULL,\n",
        "    \"ProductDescription\" VARCHAR(150) NOT NULL,\n",
        "    \"Price\" REAL NOT NULL,\n",
        "    \"Quantity\" INTEGER NOT NULL,\n",
        "    \"Weight_kg\" REAL,\n",
        "    \"Volume_litre\" REAL,\n",
        "    \"Length\" REAL,\n",
        "    \"Width\" REAL,\n",
        "    \"Height\" REAL,\n",
        "    \"PathID\" INTEGER,\n",
        "    \"ItemID\" INTEGER,\n",
        "    \"ColourID\" INTEGER,\n",
        "    \"BrandID\" INTEGER,\n",
        "    \"LocationID\" INTEGER,\n",
        "    PRIMARY KEY(\"RegistryID\" AUTOINCREMENT),\n",
        "    FOREIGN KEY(\"PathID\") REFERENCES \"Navigation_3NF\" (\"PathID\"),\n",
        "    FOREIGN KEY(\"ItemID\") REFERENCES \"PackageContents_3NF\" (\"ItemID\"),\n",
        "    FOREIGN KEY(\"ColourID\") REFERENCES \"Colours_3NF\" (\"ColourID\") ,\n",
        "    FOREIGN KEY (\"BrandID\") REFERENCES \"Brands_3NF\" (\"BrandID\"),\n",
        "    FOREIGN KEY (\"Barcode\") REFERENCES \"Transactions_3NF\" (\"Barcode\"),\n",
        "    FOREIGN KEY (\"LocationID\") REFERENCES \"Locations_3NF\" (\"LocationID\")\n",
        ");\n",
        "\n",
        "CREATE TABLE \"Transactions_3NF\" (\n",
        "    \"CartID\" INTEGER NOT NULL,\n",
        "    \"Barcode\" VARCHAR(150) NOT NULL,\n",
        "    \"UserID\" VARCHAR(150) NOT NULL,\n",
        "    \"InvoiceDate\" DATETIME NOT NULL,\n",
        "    \"Total\" REAL NOT NULL,\n",
        "    FOREIGN KEY (\"Barcode\") REFERENCES \"Products_3NF\" (\"Barcode\"),\n",
        "    FOREIGN KEY (\"UserID\") REFERENCES \"Users_3NF\"(\"UserID\")\n",
        "    PRIMARY KEY(\"CartID\", \"Barcode\")\n",
        ");\n",
        "\n",
        "\n",
        "CREATE TABLE \"Users_3NF\"(\n",
        "    \"UserID\" INTEGER NOT NULL,\n",
        "    UserName VARCHAR(50) NOT NULL,\n",
        "    PRIMARY KEY(\"UserID\" AUTOINCREMENT)\n",
        ");\n",
        "\n",
        "\n",
        "CREATE TABLE \"Navigation_3NF\"(\n",
        "    \"PathID\" INTEGER NOT NULL,\n",
        "    \"NavigationPath\" VARCHAR(150),\n",
        "    PRIMARY KEY(\"PathID\" AUTOINCREMENT)\n",
        ");\n",
        "\n",
        "CREATE TABLE \"PackageContents_3NF\"(\n",
        "    \"ItemID\" INTEGER NOT NULL,\n",
        "    \"ItemDescription\" VARCHAR(150),\n",
        "    \"PackType\" VARCHAR(150),\n",
        "    \"Warranty\" VARCHAR(150),\n",
        "    PRIMARY KEY(\"ItemID\" AUTOINCREMENT)\n",
        ");\n",
        "\n",
        "CREATE TABLE \"Colours_3NF\"(\n",
        "    \"ColourID\" INTEGER NOT NULL,\n",
        "    \"Colour\" VARCHAR(150),\n",
        "    PRIMARY KEY(\"ColourID\" AUTOINCREMENT)\n",
        ");\n",
        "\n",
        "\n",
        "CREATE TABLE \"Brands_3NF\"(\n",
        "    \"BrandID\" INTEGER NOT NULL,\n",
        "    \"Brand\" VARCHAR(150),\n",
        "    PRIMARY KEY(\"BrandID\" AUTOINCREMENT)\n",
        ");\n",
        "\n",
        "CREATE TABLE \"Locations_3NF\"(\n",
        "    \"LocationID\" INTEGER NOT NULL,\n",
        "    \"StockCountry\" VARCHAR(150),\n",
        "    PRIMARY KEY(\"LocationID\" AUTOINCREMENT)\n",
        ");\n",
        "\n"
      ]
    },
    {
      "cell_type": "code",
      "execution_count": null,
      "metadata": {
        "id": "j-neINIfgwwS",
        "outputId": "1404360c-952a-41f6-9b72-56e67f731fbd"
      },
      "outputs": [
        {
          "name": "stdout",
          "output_type": "stream",
          "text": [
            " * sqlite:///bhejane.db\n",
            "0 rows affected.\n",
            "0 rows affected.\n",
            "0 rows affected.\n",
            "0 rows affected.\n",
            "0 rows affected.\n",
            "0 rows affected.\n",
            "0 rows affected.\n",
            "0 rows affected.\n",
            "158 rows affected.\n",
            "2 rows affected.\n",
            "232 rows affected.\n",
            "17 rows affected.\n",
            "600 rows affected.\n",
            "396 rows affected.\n",
            "275 rows affected.\n",
            "1214 rows affected.\n"
          ]
        },
        {
          "data": {
            "text/plain": [
              "[]"
            ]
          },
          "execution_count": 12,
          "metadata": {},
          "output_type": "execute_result"
        }
      ],
      "source": [
        "%%sql\n",
        "\n",
        "--# Populate the tables to that they conform to the 3rd Normal Form\n",
        "DELETE FROM \"Products_3NF\";\n",
        "DELETE FROM \"Transactions_3NF\";\n",
        "DELETE FROM \"Users_3NF\";\n",
        "DELETE FROM \"Navigation_3NF\";\n",
        "DELETE FROM \"PackageContents_3NF\";\n",
        "DELETE FROM \"Colours_3NF\";\n",
        "DELETE FROM \"Brands_3NF\";\n",
        "DELETE FROM \"Locations_3NF\";\n",
        "\n",
        "INSERT INTO \"Users_3NF\" (\"UserName\")\n",
        "SELECT DISTINCT UserName FROM Transactions_2NF;\n",
        "\n",
        "INSERT INTO \"Locations_3NF\" (\"StockCountry\")\n",
        "SELECT DISTINCT StockCountry FROM Products_2NF\n",
        "WHERE StockCountry <> '';\n",
        "\n",
        "INSERT INTO \"Brands_3NF\" (\"Brand\")\n",
        "SELECT DISTINCT Brand FROM Products_2NF\n",
        "WHERE Brand <> '';\n",
        "\n",
        "INSERT INTO \"Colours_3NF\" (\"Colour\")\n",
        "SELECT DISTINCT Colour FROM Colours_2NF;\n",
        "\n",
        "INSERT INTO \"PackageContents_3NF\" (\"ItemDescription\",\"PackType\",\"Warranty\")\n",
        "SELECT DISTINCT\n",
        "    ItemDescription,\n",
        "    PackType,\n",
        "    Warranty\n",
        "FROM\n",
        "    PackageContents_2NF\n",
        "WHERE ItemDescription <> '';\n",
        "\n",
        "INSERT INTO \"Navigation_3NF\" (\"NavigationPath\")\n",
        "SELECT DISTINCT\n",
        "    NavigationPath\n",
        "FROM\n",
        "    Navigation_2NF;\n",
        "\n",
        "INSERT INTO \"Transactions_3NF\"(\"CartID\",\"Barcode\",\"UserID\",\"InvoiceDate\",\"Total\")\n",
        "SELECT DISTINCT\n",
        "    CartID\n",
        "    ,Transactions_2NF.Barcode\n",
        "    ,Users_3NF.UserID\n",
        "    ,InvoiceDate\n",
        "    ,Total\n",
        "FROM\n",
        "    Transactions_2NF\n",
        "JOIN Products_2NF ON Transactions_2NF.Barcode = Products_2NF.Barcode\n",
        "JOIN Users_3NF ON Transactions_2NF.UserName = Users_3NF.Username;\n",
        "\n",
        "\n",
        "INSERT INTO \"Products_3NF\" (\"PathID\",\"ItemID\",\"ColourID\",\"BrandID\",\"LocationID\",\n",
        "                            \"Barcode\",\"ProductDescription\",\"Price\",\n",
        "                            \"Quantity\",\"Weight_kg\",\"Volume_litre\",\n",
        "                            \"Length\",\"Width\",\"Height\")\n",
        "SELECT\n",
        "    Navigation_3NF.PathID,\n",
        "    PackageContents_3NF.ItemID,\n",
        "    Colours_3NF.ColourID,\n",
        "    Brands_3NF.BrandID,\n",
        "    Locations_3NF.LocationID,\n",
        "    Barcode,\n",
        "    ProductDescription,\n",
        "    Price,\n",
        "    Quantity,\n",
        "    Weight_kg,\n",
        "    Volume_litre,\n",
        "    Length,\n",
        "    Width,\n",
        "    Height\n",
        "FROM\n",
        "    Products\n",
        "LEFT JOIN Navigation_3NF ON Products.NavigationPath = Navigation_3NF.NavigationPath\n",
        "LEFT JOIN PackageContents_3NF ON Products.ItemDescription = PackageContents_3NF.ItemDescription\n",
        "LEFT JOIN Colours_3NF ON Products.Colour = Colours_3NF.Colour\n",
        "LEFT JOIN Brands_3NF ON Products.Brand = Brands_3NF.Brand\n",
        "LEFT JOIN Locations_3NF ON Products.StockCountry = Locations_3NF.StockCountry\n",
        ";\n",
        "\n"
      ]
    },
    {
      "cell_type": "markdown",
      "metadata": {
        "id": "zMvJZFQsGE03"
      },
      "source": [
        "<a id='MCQ_questions'></a>\n",
        "## 9. MCQ Questions\n",
        "\n",
        "Having completed the normalisation of the database, you may use the following cells to help you answer the MCQs for the predict."
      ]
    },
    {
      "cell_type": "markdown",
      "metadata": {
        "id": "hEVNjuirGE03"
      },
      "source": [
        "Q1) How many products (Total Stock) does the company have?"
      ]
    },
    {
      "cell_type": "code",
      "execution_count": null,
      "metadata": {
        "id": "y3hoYpGxGE03",
        "colab": {
          "base_uri": "https://localhost:8080/",
          "height": 96
        },
        "outputId": "2c0b19b4-4515-4d67-9c42-e555d4dd3a21"
      },
      "outputs": [
        {
          "output_type": "stream",
          "name": "stdout",
          "text": [
            " * sqlite:///bhejane.db\n",
            "Done.\n"
          ]
        },
        {
          "output_type": "execute_result",
          "data": {
            "text/plain": [
              "[(1214,)]"
            ],
            "text/html": [
              "<table>\n",
              "    <thead>\n",
              "        <tr>\n",
              "            <th>TotalStock</th>\n",
              "        </tr>\n",
              "    </thead>\n",
              "    <tbody>\n",
              "        <tr>\n",
              "            <td>1214</td>\n",
              "        </tr>\n",
              "    </tbody>\n",
              "</table>"
            ]
          },
          "metadata": {},
          "execution_count": 7
        }
      ],
      "source": [
        "%%sql\n",
        "SELECT COUNT(*) AS TotalStock\n",
        "FROM \"Products_3NF\";\n"
      ]
    },
    {
      "cell_type": "markdown",
      "metadata": {
        "id": "WsQZQ8tuGE03"
      },
      "source": [
        "Q2) Which user(s) bought from Bhejane on the 25th of March in 2020?"
      ]
    },
    {
      "cell_type": "code",
      "execution_count": null,
      "metadata": {
        "id": "hFz7XUw_GE04",
        "colab": {
          "base_uri": "https://localhost:8080/",
          "height": 703
        },
        "outputId": "3ad69446-3614-4a2b-f18c-894947e4274f"
      },
      "outputs": [
        {
          "output_type": "error",
          "ename": "DatabaseError",
          "evalue": "Execution failed on sql '\nSELECT \n    u.user_id, \n    u.user_name\nFROM \n    users u\nJOIN \n    orders o ON u.user_id = o.user_id\nJOIN \n    order_details od ON o.order_id = od.order_id\nJOIN \n    products p ON od.product_id = p.product_id\nJOIN \n    brands b ON p.brand_id = b.brand_id\nWHERE \n    b.brand_name = 'Bhejane'\n    AND o.order_date = '2020-03-25';\n': no such table: users",
          "traceback": [
            "\u001b[0;31m---------------------------------------------------------------------------\u001b[0m",
            "\u001b[0;31mOperationalError\u001b[0m                          Traceback (most recent call last)",
            "\u001b[0;32m/usr/local/lib/python3.10/dist-packages/pandas/io/sql.py\u001b[0m in \u001b[0;36mexecute\u001b[0;34m(self, sql, params)\u001b[0m\n\u001b[1;32m   2201\u001b[0m         \u001b[0;32mtry\u001b[0m\u001b[0;34m:\u001b[0m\u001b[0;34m\u001b[0m\u001b[0;34m\u001b[0m\u001b[0m\n\u001b[0;32m-> 2202\u001b[0;31m             \u001b[0mcur\u001b[0m\u001b[0;34m.\u001b[0m\u001b[0mexecute\u001b[0m\u001b[0;34m(\u001b[0m\u001b[0msql\u001b[0m\u001b[0;34m,\u001b[0m \u001b[0;34m*\u001b[0m\u001b[0margs\u001b[0m\u001b[0;34m)\u001b[0m\u001b[0;34m\u001b[0m\u001b[0;34m\u001b[0m\u001b[0m\n\u001b[0m\u001b[1;32m   2203\u001b[0m             \u001b[0;32mreturn\u001b[0m \u001b[0mcur\u001b[0m\u001b[0;34m\u001b[0m\u001b[0;34m\u001b[0m\u001b[0m\n",
            "\u001b[0;31mOperationalError\u001b[0m: no such table: users",
            "\nThe above exception was the direct cause of the following exception:\n",
            "\u001b[0;31mDatabaseError\u001b[0m                             Traceback (most recent call last)",
            "\u001b[0;32m<ipython-input-22-fadbb6455e57>\u001b[0m in \u001b[0;36m<cell line: 28>\u001b[0;34m()\u001b[0m\n\u001b[1;32m     26\u001b[0m \u001b[0;34m\u001b[0m\u001b[0m\n\u001b[1;32m     27\u001b[0m \u001b[0;31m# Load the results into a DataFrame\u001b[0m\u001b[0;34m\u001b[0m\u001b[0;34m\u001b[0m\u001b[0m\n\u001b[0;32m---> 28\u001b[0;31m \u001b[0mdf\u001b[0m \u001b[0;34m=\u001b[0m \u001b[0mpd\u001b[0m\u001b[0;34m.\u001b[0m\u001b[0mread_sql_query\u001b[0m\u001b[0;34m(\u001b[0m\u001b[0mquery\u001b[0m\u001b[0;34m,\u001b[0m \u001b[0mconn\u001b[0m\u001b[0;34m)\u001b[0m\u001b[0;34m\u001b[0m\u001b[0;34m\u001b[0m\u001b[0m\n\u001b[0m\u001b[1;32m     29\u001b[0m \u001b[0;34m\u001b[0m\u001b[0m\n\u001b[1;32m     30\u001b[0m \u001b[0;31m# Close the connection\u001b[0m\u001b[0;34m\u001b[0m\u001b[0;34m\u001b[0m\u001b[0m\n",
            "\u001b[0;32m/usr/local/lib/python3.10/dist-packages/pandas/io/sql.py\u001b[0m in \u001b[0;36mread_sql_query\u001b[0;34m(sql, con, index_col, coerce_float, params, parse_dates, chunksize, dtype, dtype_backend)\u001b[0m\n\u001b[1;32m    467\u001b[0m \u001b[0;34m\u001b[0m\u001b[0m\n\u001b[1;32m    468\u001b[0m     \u001b[0;32mwith\u001b[0m \u001b[0mpandasSQL_builder\u001b[0m\u001b[0;34m(\u001b[0m\u001b[0mcon\u001b[0m\u001b[0;34m)\u001b[0m \u001b[0;32mas\u001b[0m \u001b[0mpandas_sql\u001b[0m\u001b[0;34m:\u001b[0m\u001b[0;34m\u001b[0m\u001b[0;34m\u001b[0m\u001b[0m\n\u001b[0;32m--> 469\u001b[0;31m         return pandas_sql.read_query(\n\u001b[0m\u001b[1;32m    470\u001b[0m             \u001b[0msql\u001b[0m\u001b[0;34m,\u001b[0m\u001b[0;34m\u001b[0m\u001b[0;34m\u001b[0m\u001b[0m\n\u001b[1;32m    471\u001b[0m             \u001b[0mindex_col\u001b[0m\u001b[0;34m=\u001b[0m\u001b[0mindex_col\u001b[0m\u001b[0;34m,\u001b[0m\u001b[0;34m\u001b[0m\u001b[0;34m\u001b[0m\u001b[0m\n",
            "\u001b[0;32m/usr/local/lib/python3.10/dist-packages/pandas/io/sql.py\u001b[0m in \u001b[0;36mread_query\u001b[0;34m(self, sql, index_col, coerce_float, parse_dates, params, chunksize, dtype, dtype_backend)\u001b[0m\n\u001b[1;32m   2264\u001b[0m         \u001b[0mdtype_backend\u001b[0m\u001b[0;34m:\u001b[0m \u001b[0mDtypeBackend\u001b[0m \u001b[0;34m|\u001b[0m \u001b[0mLiteral\u001b[0m\u001b[0;34m[\u001b[0m\u001b[0;34m\"numpy\"\u001b[0m\u001b[0;34m]\u001b[0m \u001b[0;34m=\u001b[0m \u001b[0;34m\"numpy\"\u001b[0m\u001b[0;34m,\u001b[0m\u001b[0;34m\u001b[0m\u001b[0;34m\u001b[0m\u001b[0m\n\u001b[1;32m   2265\u001b[0m     ) -> DataFrame | Iterator[DataFrame]:\n\u001b[0;32m-> 2266\u001b[0;31m         \u001b[0mcursor\u001b[0m \u001b[0;34m=\u001b[0m \u001b[0mself\u001b[0m\u001b[0;34m.\u001b[0m\u001b[0mexecute\u001b[0m\u001b[0;34m(\u001b[0m\u001b[0msql\u001b[0m\u001b[0;34m,\u001b[0m \u001b[0mparams\u001b[0m\u001b[0;34m)\u001b[0m\u001b[0;34m\u001b[0m\u001b[0;34m\u001b[0m\u001b[0m\n\u001b[0m\u001b[1;32m   2267\u001b[0m         \u001b[0mcolumns\u001b[0m \u001b[0;34m=\u001b[0m \u001b[0;34m[\u001b[0m\u001b[0mcol_desc\u001b[0m\u001b[0;34m[\u001b[0m\u001b[0;36m0\u001b[0m\u001b[0;34m]\u001b[0m \u001b[0;32mfor\u001b[0m \u001b[0mcol_desc\u001b[0m \u001b[0;32min\u001b[0m \u001b[0mcursor\u001b[0m\u001b[0;34m.\u001b[0m\u001b[0mdescription\u001b[0m\u001b[0;34m]\u001b[0m\u001b[0;34m\u001b[0m\u001b[0;34m\u001b[0m\u001b[0m\n\u001b[1;32m   2268\u001b[0m \u001b[0;34m\u001b[0m\u001b[0m\n",
            "\u001b[0;32m/usr/local/lib/python3.10/dist-packages/pandas/io/sql.py\u001b[0m in \u001b[0;36mexecute\u001b[0;34m(self, sql, params)\u001b[0m\n\u001b[1;32m   2212\u001b[0m \u001b[0;34m\u001b[0m\u001b[0m\n\u001b[1;32m   2213\u001b[0m             \u001b[0mex\u001b[0m \u001b[0;34m=\u001b[0m \u001b[0mDatabaseError\u001b[0m\u001b[0;34m(\u001b[0m\u001b[0;34mf\"Execution failed on sql '{sql}': {exc}\"\u001b[0m\u001b[0;34m)\u001b[0m\u001b[0;34m\u001b[0m\u001b[0;34m\u001b[0m\u001b[0m\n\u001b[0;32m-> 2214\u001b[0;31m             \u001b[0;32mraise\u001b[0m \u001b[0mex\u001b[0m \u001b[0;32mfrom\u001b[0m \u001b[0mexc\u001b[0m\u001b[0;34m\u001b[0m\u001b[0;34m\u001b[0m\u001b[0m\n\u001b[0m\u001b[1;32m   2215\u001b[0m \u001b[0;34m\u001b[0m\u001b[0m\n\u001b[1;32m   2216\u001b[0m     \u001b[0;34m@\u001b[0m\u001b[0mstaticmethod\u001b[0m\u001b[0;34m\u001b[0m\u001b[0;34m\u001b[0m\u001b[0m\n",
            "\u001b[0;31mDatabaseError\u001b[0m: Execution failed on sql '\nSELECT \n    u.user_id, \n    u.user_name\nFROM \n    users u\nJOIN \n    orders o ON u.user_id = o.user_id\nJOIN \n    order_details od ON o.order_id = od.order_id\nJOIN \n    products p ON od.product_id = p.product_id\nJOIN \n    brands b ON p.brand_id = b.brand_id\nWHERE \n    b.brand_name = 'Bhejane'\n    AND o.order_date = '2020-03-25';\n': no such table: users"
          ]
        }
      ],
      "source": [
        "import sqlite3\n",
        "import pandas as pd\n",
        "\n",
        "# Connect to your database\n",
        "conn = sqlite3.connect('bhejane.db')\n",
        "\n",
        "# Define your SQL query\n",
        "query = \"\"\"\n",
        "SELECT\n",
        "    u.user_id,\n",
        "    u.user_name\n",
        "FROM\n",
        "    users u\n",
        "JOIN\n",
        "    orders o ON u.user_id = o.user_id\n",
        "JOIN\n",
        "    order_details od ON o.order_id = od.order_id\n",
        "JOIN\n",
        "    products p ON od.product_id = p.product_id\n",
        "JOIN\n",
        "    brands b ON p.brand_id = b.brand_id\n",
        "WHERE\n",
        "    b.brand_name = 'Bhejane'\n",
        "    AND o.order_date = '2020-03-25';\n",
        "\"\"\"\n",
        "\n",
        "# Load the results into a DataFrame\n",
        "df = pd.read_sql_query(query, conn)\n",
        "\n",
        "# Close the connection\n",
        "conn.close()\n",
        "\n",
        "# Display the results\n",
        "print(df)\n"
      ]
    },
    {
      "cell_type": "code",
      "source": [
        "%%sql\n",
        "-- Check if Bhejane exists in Navigation_3NF\n",
        "SELECT * FROM Navigation_3NF WHERE NavigationPath = 'Bhejane';\n",
        "\n",
        "-- Check transactions on the given date\n",
        "SELECT * FROM Transactions_3NF WHERE InvoiceDate = '2020-03-25';\n",
        "\n",
        "-- Check joined results\n",
        "SELECT t.CartID, t.Barcode, n.NavigationPath, u.UserName\n",
        "FROM Transactions_3NF t\n",
        "JOIN Products_3NF p ON t.Barcode = p.Barcode\n",
        "JOIN Navigation_3NF n ON p.PathID = n.PathID\n",
        "JOIN Users_3NF u ON t.UserID = u.UserID\n",
        "WHERE n.NavigationPath = 'Bhejane'\n",
        "AND t.InvoiceDate = '2020-03-25';\n"
      ],
      "metadata": {
        "colab": {
          "base_uri": "https://localhost:8080/"
        },
        "id": "gP1pG6tDy44p",
        "outputId": "9531d729-da03-49c8-90be-e4d1c198c6bb"
      },
      "execution_count": null,
      "outputs": [
        {
          "output_type": "stream",
          "name": "stderr",
          "text": [
            "UsageError: Cell magic `%%sql` not found.\n"
          ]
        }
      ]
    },
    {
      "cell_type": "code",
      "source": [
        "%%sql\n",
        "SELECT * FROM Transactions_3NF WHERE InvoiceDate = '2020-03-25';\n"
      ],
      "metadata": {
        "colab": {
          "base_uri": "https://localhost:8080/"
        },
        "id": "ZMXu51MXzLfj",
        "outputId": "d4d9af80-b281-4f26-de17-c3e703109e20"
      },
      "execution_count": null,
      "outputs": [
        {
          "output_type": "stream",
          "name": "stderr",
          "text": [
            "UsageError: Cell magic `%%sql` not found.\n"
          ]
        }
      ]
    },
    {
      "cell_type": "code",
      "source": [
        "%%sql\n",
        "SELECT * FROM Products_3NF p\n",
        "JOIN Navigation_3NF n ON p.PathID = n.PathID\n",
        "WHERE n.NavigationPath = 'Bhejane';\n"
      ],
      "metadata": {
        "colab": {
          "base_uri": "https://localhost:8080/",
          "height": 95
        },
        "id": "8UHGSK69zPa-",
        "outputId": "011c44ca-26ff-4e42-9863-d58253522939"
      },
      "execution_count": null,
      "outputs": [
        {
          "output_type": "stream",
          "name": "stdout",
          "text": [
            " * sqlite:///bhejane.db\n",
            "Done.\n"
          ]
        },
        {
          "output_type": "execute_result",
          "data": {
            "text/plain": [
              "[]"
            ],
            "text/html": [
              "<table>\n",
              "    <thead>\n",
              "        <tr>\n",
              "            <th>RegistryID</th>\n",
              "            <th>Barcode</th>\n",
              "            <th>ProductDescription</th>\n",
              "            <th>Price</th>\n",
              "            <th>Quantity</th>\n",
              "            <th>Weight_kg</th>\n",
              "            <th>Volume_litre</th>\n",
              "            <th>Length</th>\n",
              "            <th>Width</th>\n",
              "            <th>Height</th>\n",
              "            <th>PathID</th>\n",
              "            <th>ItemID</th>\n",
              "            <th>ColourID</th>\n",
              "            <th>BrandID</th>\n",
              "            <th>LocationID</th>\n",
              "            <th>PathID_1</th>\n",
              "            <th>NavigationPath</th>\n",
              "        </tr>\n",
              "    </thead>\n",
              "    <tbody>\n",
              "    </tbody>\n",
              "</table>"
            ]
          },
          "metadata": {},
          "execution_count": 20
        }
      ]
    },
    {
      "cell_type": "code",
      "source": [
        "%%sql\n",
        "SELECT DISTINCT t.UserID, u.UserName\n",
        "FROM Transactions_3NF t\n",
        "JOIN Products_3NF p ON t.Barcode = p.Barcode\n",
        "JOIN Navigation_3NF n ON p.PathID = n.PathID\n",
        "JOIN Users_3NF u ON t.UserID = u.UserID\n",
        "WHERE n.NavigationPath = 'Bhejane';\n"
      ],
      "metadata": {
        "colab": {
          "base_uri": "https://localhost:8080/",
          "height": 75
        },
        "id": "CNwNgBzHzPPN",
        "outputId": "81d32818-600e-4027-ae2d-a3c1f5b1d6ce"
      },
      "execution_count": null,
      "outputs": [
        {
          "output_type": "stream",
          "name": "stdout",
          "text": [
            " * sqlite:///bhejane.db\n",
            "Done.\n"
          ]
        },
        {
          "output_type": "execute_result",
          "data": {
            "text/plain": [
              "[]"
            ],
            "text/html": [
              "<table>\n",
              "    <thead>\n",
              "        <tr>\n",
              "            <th>UserID</th>\n",
              "            <th>UserName</th>\n",
              "        </tr>\n",
              "    </thead>\n",
              "    <tbody>\n",
              "    </tbody>\n",
              "</table>"
            ]
          },
          "metadata": {},
          "execution_count": 22
        }
      ]
    },
    {
      "cell_type": "code",
      "source": [
        "%%sql\n",
        "SELECT DISTINCT DATE(InvoiceDate)\n",
        "FROM Transactions_3NF\n",
        "ORDER BY DATE(InvoiceDate);\n"
      ],
      "metadata": {
        "colab": {
          "base_uri": "https://localhost:8080/",
          "height": 96
        },
        "id": "-WWqVK3U02TV",
        "outputId": "2acce68f-2ab6-4216-b349-e1204cbdb1d6"
      },
      "execution_count": null,
      "outputs": [
        {
          "output_type": "stream",
          "name": "stdout",
          "text": [
            " * sqlite:///bhejane.db\n",
            "Done.\n"
          ]
        },
        {
          "output_type": "execute_result",
          "data": {
            "text/plain": [
              "[(None,)]"
            ],
            "text/html": [
              "<table>\n",
              "    <thead>\n",
              "        <tr>\n",
              "            <th>DATE(InvoiceDate)</th>\n",
              "        </tr>\n",
              "    </thead>\n",
              "    <tbody>\n",
              "        <tr>\n",
              "            <td>None</td>\n",
              "        </tr>\n",
              "    </tbody>\n",
              "</table>"
            ]
          },
          "metadata": {},
          "execution_count": 25
        }
      ]
    },
    {
      "cell_type": "code",
      "source": [
        "%%sql\n",
        "SELECT t.CartID, t.Barcode, t.UserID, t.InvoiceDate, u.UserName\n",
        "FROM Transactions_3NF t\n",
        "JOIN Users_3NF u ON t.UserID = u.UserID\n",
        "WHERE DATE(t.InvoiceDate) = '2020-03-25';\n"
      ],
      "metadata": {
        "colab": {
          "base_uri": "https://localhost:8080/",
          "height": 75
        },
        "id": "xakufmQb1dXe",
        "outputId": "abb842a9-5a24-4a89-cab0-21fb0970a491"
      },
      "execution_count": null,
      "outputs": [
        {
          "output_type": "stream",
          "name": "stdout",
          "text": [
            " * sqlite:///bhejane.db\n",
            "Done.\n"
          ]
        },
        {
          "output_type": "execute_result",
          "data": {
            "text/plain": [
              "[]"
            ],
            "text/html": [
              "<table>\n",
              "    <thead>\n",
              "        <tr>\n",
              "            <th>CartID</th>\n",
              "            <th>Barcode</th>\n",
              "            <th>UserID</th>\n",
              "            <th>InvoiceDate</th>\n",
              "            <th>UserName</th>\n",
              "        </tr>\n",
              "    </thead>\n",
              "    <tbody>\n",
              "    </tbody>\n",
              "</table>"
            ]
          },
          "metadata": {},
          "execution_count": 27
        }
      ]
    },
    {
      "cell_type": "code",
      "source": [
        "%%sql\n",
        "SELECT t.CartID, t.Barcode, t.InvoiceDate, n.NavigationPath\n",
        "FROM Transactions_3NF t\n",
        "JOIN Products_3NF p ON t.Barcode = p.Barcode\n",
        "JOIN Navigation_3NF n ON p.PathID = n.PathID\n",
        "WHERE DATE(t.InvoiceDate) = '2020-03-25';\n"
      ],
      "metadata": {
        "colab": {
          "base_uri": "https://localhost:8080/",
          "height": 75
        },
        "id": "oG-5gNaE2Vhs",
        "outputId": "e9f05438-6686-4162-cd02-70a55f6161b3"
      },
      "execution_count": null,
      "outputs": [
        {
          "output_type": "stream",
          "name": "stdout",
          "text": [
            " * sqlite:///bhejane.db\n",
            "Done.\n"
          ]
        },
        {
          "output_type": "execute_result",
          "data": {
            "text/plain": [
              "[]"
            ],
            "text/html": [
              "<table>\n",
              "    <thead>\n",
              "        <tr>\n",
              "            <th>CartID</th>\n",
              "            <th>Barcode</th>\n",
              "            <th>InvoiceDate</th>\n",
              "            <th>NavigationPath</th>\n",
              "        </tr>\n",
              "    </thead>\n",
              "    <tbody>\n",
              "    </tbody>\n",
              "</table>"
            ]
          },
          "metadata": {},
          "execution_count": 28
        }
      ]
    },
    {
      "cell_type": "markdown",
      "metadata": {
        "id": "iBRifthWGE04"
      },
      "source": [
        "Q3) List the date(s) where Mandla bought something from Bhejane."
      ]
    },
    {
      "cell_type": "code",
      "execution_count": null,
      "metadata": {
        "id": "NURR7Ue9GE04",
        "colab": {
          "base_uri": "https://localhost:8080/",
          "height": 75
        },
        "outputId": "18822caf-e59e-48da-a174-f9278daefa91"
      },
      "outputs": [
        {
          "output_type": "stream",
          "name": "stdout",
          "text": [
            " * sqlite:///bhejane.db\n",
            "Done.\n"
          ]
        },
        {
          "output_type": "execute_result",
          "data": {
            "text/plain": [
              "[]"
            ],
            "text/html": [
              "<table>\n",
              "    <thead>\n",
              "        <tr>\n",
              "            <th>InvoiceDate</th>\n",
              "        </tr>\n",
              "    </thead>\n",
              "    <tbody>\n",
              "    </tbody>\n",
              "</table>"
            ]
          },
          "metadata": {},
          "execution_count": 16
        }
      ],
      "source": [
        "%%sql\n",
        "SELECT DISTINCT t.\"InvoiceDate\"\n",
        "FROM \"Transactions_3NF\" t\n",
        "JOIN \"Products_3NF\" p ON t.\"Barcode\" = p.\"Barcode\"\n",
        "JOIN \"Users_3NF\" u ON t.\"UserID\" = u.\"UserID\"\n",
        "JOIN \"Brands_3NF\" b ON p.\"BrandID\" = b.\"BrandID\"\n",
        "WHERE u.\"UserName\" = 'Mandla'\n",
        "  AND b.\"Brand\" = 'Bhejane';\n"
      ]
    },
    {
      "cell_type": "markdown",
      "metadata": {
        "id": "9_-usJoSGE04"
      },
      "source": [
        "Q4) Which brand has the largest product variety available at Bhejane?"
      ]
    },
    {
      "cell_type": "code",
      "execution_count": null,
      "metadata": {
        "id": "3i7wS1jJGE04",
        "colab": {
          "base_uri": "https://localhost:8080/",
          "height": 75
        },
        "outputId": "c4a6de1b-f2c0-4cae-d1be-3de63f3aae26"
      },
      "outputs": [
        {
          "output_type": "stream",
          "name": "stdout",
          "text": [
            " * sqlite:///bhejane.db\n",
            "Done.\n"
          ]
        },
        {
          "output_type": "execute_result",
          "data": {
            "text/plain": [
              "[]"
            ],
            "text/html": [
              "<table>\n",
              "    <thead>\n",
              "        <tr>\n",
              "            <th>Brand</th>\n",
              "        </tr>\n",
              "    </thead>\n",
              "    <tbody>\n",
              "    </tbody>\n",
              "</table>"
            ]
          },
          "metadata": {},
          "execution_count": 34
        }
      ],
      "source": [
        "%%sql\n",
        "SELECT Brand\n",
        "FROM (\n",
        "    SELECT b.Brand, COUNT(DISTINCT p.Barcode) AS ProductCount\n",
        "    FROM Products_3NF p\n",
        "    JOIN Navigation_3NF n ON p.PathID = n.PathID\n",
        "    JOIN Brands_3NF b ON p.BrandID = b.BrandID\n",
        "    WHERE n.NavigationPath = 'Bhejane'\n",
        "    GROUP BY b.Brand\n",
        ")\n",
        "ORDER BY ProductCount DESC\n",
        "LIMIT 1;\n"
      ]
    },
    {
      "cell_type": "code",
      "source": [
        "%%sql\n",
        "SELECT Brand\n",
        "FROM (\n",
        "    SELECT b.Brand, COUNT(*) AS ProductCount\n",
        "    FROM Products_3NF p\n",
        "    JOIN Navigation_3NF n ON p.PathID = n.PathID\n",
        "    JOIN Brands_3NF b ON p.BrandID = b.BrandID\n",
        "    WHERE n.NavigationPath = 'Bhejane'\n",
        "    GROUP BY b.Brand\n",
        ")\n",
        "ORDER BY ProductCount DESC\n",
        "LIMIT 1;\n"
      ],
      "metadata": {
        "colab": {
          "base_uri": "https://localhost:8080/",
          "height": 75
        },
        "id": "ZOUrCNyi3T40",
        "outputId": "8f4478e9-62a9-48fa-c930-bd78bf22484d"
      },
      "execution_count": null,
      "outputs": [
        {
          "output_type": "stream",
          "name": "stdout",
          "text": [
            " * sqlite:///bhejane.db\n",
            "Done.\n"
          ]
        },
        {
          "output_type": "execute_result",
          "data": {
            "text/plain": [
              "[]"
            ],
            "text/html": [
              "<table>\n",
              "    <thead>\n",
              "        <tr>\n",
              "            <th>Brand</th>\n",
              "        </tr>\n",
              "    </thead>\n",
              "    <tbody>\n",
              "    </tbody>\n",
              "</table>"
            ]
          },
          "metadata": {},
          "execution_count": 33
        }
      ]
    },
    {
      "cell_type": "markdown",
      "metadata": {
        "id": "Ik1EeR1dGE04"
      },
      "source": [
        "Q5) How much did Zanele spend on the 4th of April 2020?"
      ]
    },
    {
      "cell_type": "code",
      "execution_count": null,
      "metadata": {
        "id": "BhTlfGsyGE04",
        "colab": {
          "base_uri": "https://localhost:8080/"
        },
        "outputId": "de158622-e8cd-4254-99d4-52f904b84d7b"
      },
      "outputs": [
        {
          "output_type": "stream",
          "name": "stderr",
          "text": [
            "UsageError: Cell magic `%%sql` not found.\n"
          ]
        }
      ],
      "source": [
        "%%sql\n",
        "SELECT\n",
        "    SUM(od.quantity * od.price) AS total_spent\n",
        "FROM\n",
        "    users u\n",
        "JOIN\n",
        "    orders o ON u.user_id = o.user_id\n",
        "JOIN\n",
        "    order_details od ON o.order_id = od.order_id\n",
        "WHERE\n",
        "    u.user_name = 'Zanele'\n",
        "    AND o.order_date = '2020-04-04';\n"
      ]
    },
    {
      "cell_type": "markdown",
      "metadata": {
        "id": "CLNf-BoGGE04"
      },
      "source": [
        "Q6) Assuming the average pick-up truck can hold 90 $m^{3}$ of stock. How many bags of 'Catmor - Dry Cat Food - Chicken - 4kg' can you fit in the truck? Round down your answer to the nearest whole number.\n",
        "\n",
        "1$m^{3}$ = 1000000$cm^{3}$"
      ]
    },
    {
      "cell_type": "code",
      "execution_count": null,
      "metadata": {
        "id": "afrVCqnYGE04",
        "colab": {
          "base_uri": "https://localhost:8080/"
        },
        "outputId": "f51ecc0c-583b-4bad-acb3-3975599cac0a"
      },
      "outputs": [
        {
          "output_type": "stream",
          "name": "stderr",
          "text": [
            "UsageError: Cell magic `%%sql` not found.\n"
          ]
        }
      ],
      "source": [
        "%%sql\n",
        "-- Step 1: Assuming we have a table 'products' with the dimensions in cm\n",
        "CREATE TABLE products (\n",
        "    product_id INT PRIMARY KEY,\n",
        "    product_name VARCHAR(255),\n",
        "    length_cm FLOAT,\n",
        "    width_cm FLOAT,\n",
        "    height_cm FLOAT\n",
        ");\n",
        "\n",
        "-- Step 2: Insert the dimensions for 'Catmor - Dry Cat Food - Chicken - 4kg'\n",
        "INSERT INTO products (product_id, product_name, length_cm, width_cm, height_cm)\n",
        "VALUES (1, 'Catmor - Dry Cat Food - Chicken - 4kg', 50, 30, 15);\n",
        "\n",
        "-- Step 3: Calculate how many bags can fit in the truck\n",
        "SELECT\n",
        "    FLOOR(90000000 / (length_cm * width_cm * height_cm)) AS bags_that_fit\n",
        "FROM\n",
        "    products\n",
        "WHERE\n",
        "    product_name = 'Catmor - Dry Cat Food - Chicken - 4kg';\n"
      ]
    },
    {
      "cell_type": "markdown",
      "metadata": {
        "id": "B4usZSh1GE04"
      },
      "source": [
        "Q7) Which user spent the most having only bought 4 items in the Year 2020?"
      ]
    },
    {
      "cell_type": "code",
      "execution_count": null,
      "metadata": {
        "id": "8xipCT9JGE04",
        "outputId": "15f59f26-8272-4c34-a0cf-3d8967458f88"
      },
      "outputs": [
        {
          "name": "stdout",
          "output_type": "stream",
          "text": [
            " * sqlite:///bhejane.db\n",
            "Done.\n"
          ]
        },
        {
          "data": {
            "text/plain": [
              "[]"
            ]
          },
          "execution_count": 19,
          "metadata": {},
          "output_type": "execute_result"
        }
      ],
      "source": [
        "%%sql\n",
        "-- Write your query here:\n"
      ]
    },
    {
      "cell_type": "markdown",
      "metadata": {
        "id": "BGaE5N7nGE04"
      },
      "source": [
        "Q8) What would the total price be if I had the following items in my cart?\n",
        "\n",
        "* Estee Lauder Double Wear Stay In Place Makeup\n",
        "* Angelcare - Nappy Bin Refill - 3 Pack\n",
        "* RCT 650VA Line Interactive UPS"
      ]
    },
    {
      "cell_type": "code",
      "execution_count": null,
      "metadata": {
        "id": "4pOPg-jAGE04",
        "scrolled": true,
        "outputId": "d011bf71-712a-4160-cfe9-8f1ec9b0adf0"
      },
      "outputs": [
        {
          "name": "stdout",
          "output_type": "stream",
          "text": [
            " * sqlite:///bhejane.db\n",
            "Done.\n"
          ]
        },
        {
          "data": {
            "text/plain": [
              "[]"
            ]
          },
          "execution_count": 20,
          "metadata": {},
          "output_type": "execute_result"
        }
      ],
      "source": [
        "%%sql\n",
        "-- Write your query here:"
      ]
    },
    {
      "cell_type": "markdown",
      "metadata": {
        "id": "4WHsHDuBsiut"
      },
      "source": [
        "Q9) From a stock count point of view, which product in Bhejane has the highest quantity?"
      ]
    },
    {
      "cell_type": "code",
      "execution_count": null,
      "metadata": {
        "id": "8eNSqxhQsiut",
        "outputId": "51502c7f-817c-46d1-b5b7-854b21fea5ea"
      },
      "outputs": [
        {
          "name": "stdout",
          "output_type": "stream",
          "text": [
            " * sqlite:///bhejane.db\n",
            "Done.\n"
          ]
        },
        {
          "data": {
            "text/plain": [
              "[]"
            ]
          },
          "execution_count": 21,
          "metadata": {},
          "output_type": "execute_result"
        }
      ],
      "source": [
        "%%sql\n",
        "-- Write your query here:\n"
      ]
    },
    {
      "cell_type": "markdown",
      "metadata": {
        "id": "A_5dz4coGE04"
      },
      "source": [
        "Q10) How many products are imported from the United Kingdom?"
      ]
    },
    {
      "cell_type": "code",
      "execution_count": null,
      "metadata": {
        "id": "OhBP7T7jsiut",
        "outputId": "2ac85bc6-5e36-4941-fe93-f669cfe26bf1"
      },
      "outputs": [
        {
          "name": "stdout",
          "output_type": "stream",
          "text": [
            " * sqlite:///bhejane.db\n",
            "Done.\n"
          ]
        },
        {
          "data": {
            "text/plain": [
              "[]"
            ]
          },
          "execution_count": 22,
          "metadata": {},
          "output_type": "execute_result"
        }
      ],
      "source": [
        "%%sql\n",
        "-- Write your query here:\n"
      ]
    },
    {
      "cell_type": "markdown",
      "metadata": {
        "id": "8AS0LCOaGE04"
      },
      "source": [
        "Q11) What is the name and colour of the following item (Barcode TAL00035388021)?"
      ]
    },
    {
      "cell_type": "code",
      "execution_count": null,
      "metadata": {
        "id": "9UdfWoubGE04",
        "outputId": "3a473c56-5ba4-415b-b104-f8c7a5955e50"
      },
      "outputs": [
        {
          "name": "stdout",
          "output_type": "stream",
          "text": [
            " * sqlite:///bhejane.db\n",
            "Done.\n"
          ]
        },
        {
          "data": {
            "text/plain": [
              "[]"
            ]
          },
          "execution_count": 23,
          "metadata": {},
          "output_type": "execute_result"
        }
      ],
      "source": [
        "%%sql\n",
        "-- Write your query here"
      ]
    },
    {
      "cell_type": "markdown",
      "metadata": {
        "id": "cfQAeUYhGE04"
      },
      "source": [
        "Q12) How many beer brands exist in the database?"
      ]
    },
    {
      "cell_type": "code",
      "execution_count": null,
      "metadata": {
        "id": "K9fGfD9mGE04",
        "outputId": "7c6b1492-86ef-4547-b410-21e5b756f48e"
      },
      "outputs": [
        {
          "name": "stdout",
          "output_type": "stream",
          "text": [
            " * sqlite:///bhejane.db\n",
            "Done.\n"
          ]
        },
        {
          "data": {
            "text/plain": [
              "[]"
            ]
          },
          "execution_count": 24,
          "metadata": {},
          "output_type": "execute_result"
        }
      ],
      "source": [
        "%%sql\n",
        "-- Write your query here:"
      ]
    },
    {
      "cell_type": "markdown",
      "metadata": {
        "id": "DGhN2UuaGE04"
      },
      "source": [
        "Q13) Which product contains the most package contents and belongs to more than 2 navigation paths?"
      ]
    },
    {
      "cell_type": "code",
      "execution_count": null,
      "metadata": {
        "id": "t5w4A2l1GE04",
        "outputId": "b738880b-ca96-4e66-8a2b-67f170930d63"
      },
      "outputs": [
        {
          "name": "stdout",
          "output_type": "stream",
          "text": [
            " * sqlite:///bhejane.db\n",
            "Done.\n"
          ]
        },
        {
          "data": {
            "text/plain": [
              "[]"
            ]
          },
          "execution_count": 25,
          "metadata": {},
          "output_type": "execute_result"
        }
      ],
      "source": [
        "%%sql\n",
        "\n",
        "-- Write your query here"
      ]
    },
    {
      "cell_type": "markdown",
      "metadata": {
        "id": "TINkZg-7GE05"
      },
      "source": [
        "Q14) Which user bought the product: \"Canon PG-445 & CL-446 Ink Cartridges Multipack\" in the month of May 2020 and what is their warranty type?"
      ]
    },
    {
      "cell_type": "code",
      "execution_count": null,
      "metadata": {
        "id": "82Bmwr7bGE05",
        "scrolled": true,
        "colab": {
          "base_uri": "https://localhost:8080/"
        },
        "outputId": "44cd0ab3-cdf1-4b1e-89f3-6427b94e27f0"
      },
      "outputs": [
        {
          "output_type": "stream",
          "name": "stderr",
          "text": [
            "UsageError: Cell magic `%%sql` not found.\n"
          ]
        }
      ],
      "source": [
        "%%sql\n",
        "SELECT\n",
        "    u.user_id,\n",
        "    u.user_name,\n",
        "    w.warranty_type\n",
        "FROM\n",
        "    users u\n",
        "JOIN\n",
        "    orders o ON u.user_id = o.user_id\n",
        "JOIN\n",
        "    order_details od ON o.order_id = od.order_id\n",
        "JOIN\n",
        "    products p ON od.product_id = p.product_id\n",
        "JOIN\n",
        "    warranties w ON o.warranty_id = w.warranty_id\n",
        "WHERE\n",
        "    p.product_name = 'Canon PG-445 & CL-446 Ink Cartridges Multipack'\n",
        "    AND o.order_date BETWEEN '2020-05-01' AND '2020-05-31';\n"
      ]
    },
    {
      "cell_type": "markdown",
      "metadata": {
        "id": "CU9Rglazsiuu"
      },
      "source": [
        "Q15) Which user(s) bought silver coloured products from the Russell Hobbs brand?"
      ]
    },
    {
      "cell_type": "code",
      "execution_count": null,
      "metadata": {
        "colab": {
          "base_uri": "https://localhost:8080/"
        },
        "id": "vkHJYtmSsiuu",
        "outputId": "071e53e8-5168-49fb-f67b-5249677c7c7c"
      },
      "outputs": [
        {
          "output_type": "stream",
          "name": "stderr",
          "text": [
            "UsageError: Cell magic `%%sql` not found.\n"
          ]
        }
      ],
      "source": [
        "%%sql\n",
        "SELECT\n",
        "    u.user_id,\n",
        "    u.user_name\n",
        "FROM\n",
        "    users u\n",
        "JOIN\n",
        "    orders o ON u.user_id = o.user_id\n",
        "JOIN\n",
        "    order_details od ON o.order_id = od.order_id\n",
        "JOIN\n",
        "    products p ON od.product_id = p.product_id\n",
        "JOIN\n",
        "    brands b ON p.brand_id = b.brand_id\n",
        "WHERE\n",
        "    p.color = 'Silver'\n",
        "    AND b.brand_name = 'Russell Hobbs';\n"
      ]
    },
    {
      "cell_type": "code",
      "execution_count": null,
      "metadata": {
        "id": "H41HEYEesiuv"
      },
      "outputs": [],
      "source": []
    }
  ],
  "metadata": {
    "colab": {
      "provenance": [],
      "include_colab_link": true
    },
    "kernelspec": {
      "display_name": "Python 3",
      "language": "python",
      "name": "python3"
    },
    "language_info": {
      "codemirror_mode": {
        "name": "ipython",
        "version": 3
      },
      "file_extension": ".py",
      "mimetype": "text/x-python",
      "name": "python",
      "nbconvert_exporter": "python",
      "pygments_lexer": "ipython3",
      "version": "3.10.11"
    }
  },
  "nbformat": 4,
  "nbformat_minor": 0
}